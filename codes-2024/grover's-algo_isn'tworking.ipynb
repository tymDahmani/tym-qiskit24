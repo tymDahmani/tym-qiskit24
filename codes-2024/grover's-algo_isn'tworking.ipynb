{
 "cells": [
  {
   "cell_type": "code",
   "execution_count": 125,
   "id": "7ce58f68-758d-415a-a346-47185afc5512",
   "metadata": {},
   "outputs": [],
   "source": [
    "# let's make the winner state here 010"
   ]
  },
  {
   "cell_type": "code",
   "execution_count": 126,
   "id": "a2b2a260-8113-402f-89c9-904b80aabcb1",
   "metadata": {},
   "outputs": [
    {
     "data": {
      "text/plain": [
       "<qiskit.circuit.instructionset.InstructionSet at 0x24482dd1db0>"
      ]
     },
     "execution_count": 126,
     "metadata": {},
     "output_type": "execute_result"
    }
   ],
   "source": [
    "from qiskit import *\n",
    "grover = QuantumCircuit(3)\n",
    "\n",
    "# first gates:\n",
    "grover.h([0,1,2])"
   ]
  },
  {
   "cell_type": "code",
   "execution_count": 127,
   "id": "b3c2ae8f-f8d1-4d54-945e-2cf3431fcb52",
   "metadata": {},
   "outputs": [
    {
     "data": {
      "text/plain": [
       "<qiskit.circuit.instructionset.InstructionSet at 0x24482e059f0>"
      ]
     },
     "execution_count": 127,
     "metadata": {},
     "output_type": "execute_result"
    }
   ],
   "source": [
    "# oracle:\n",
    "grover.ccz(0,2, 1)\n",
    "# where the 1st and 3rd qubits are the control, and the target is the 2nd (the one with |1> in the winner state"
   ]
  },
  {
   "cell_type": "code",
   "execution_count": 128,
   "id": "f4383fc5-6122-4f61-b3dd-d8416aa43900",
   "metadata": {},
   "outputs": [
    {
     "data": {
      "text/plain": [
       "<qiskit.circuit.instructionset.InstructionSet at 0x24482e2db10>"
      ]
     },
     "execution_count": 128,
     "metadata": {},
     "output_type": "execute_result"
    }
   ],
   "source": [
    "# reflection operator\n",
    "grover.h([0,1,2])\n",
    "grover.z([0,1,2])\n",
    "grover.cz(0,1)\n",
    "grover.cz(1,2)\n",
    "grover.h([0,1,2])"
   ]
  },
  {
   "cell_type": "code",
   "execution_count": 129,
   "id": "5a6bc52a-fce7-4254-828f-2ab08504ea19",
   "metadata": {},
   "outputs": [
    {
     "name": "stdout",
     "output_type": "stream",
     "text": [
      "{'011': 126, '001': 136, '110': 117, '111': 526, '100': 119}\n"
     ]
    }
   ],
   "source": [
    "# measurement\n",
    "grover.measure_all()\n",
    "\n",
    "# simulation\n",
    "simulator = Aer.get_backend('qasm_simulator')\n",
    "result = execute(grover, backend=simulator).result()\n",
    "counts = result.get_counts(grover)\n",
    "print(counts)"
   ]
  },
  {
   "cell_type": "code",
   "execution_count": 130,
   "id": "af40707e-4876-4f08-b44d-304cc273c6d5",
   "metadata": {},
   "outputs": [],
   "source": [
    "# following the steps i wrote on my notebook"
   ]
  },
  {
   "cell_type": "code",
   "execution_count": 131,
   "id": "1cff0647-bb67-4933-adc1-1fd158e3bb26",
   "metadata": {},
   "outputs": [],
   "source": [
    "# circuits\n",
    "main = QuantumCircuit(4)\n",
    "oracle = QuantumCircuit(4, name='oracle')\n",
    "reflection = QuantumCircuit(4, name='reflection')"
   ]
  },
  {
   "cell_type": "code",
   "execution_count": 132,
   "id": "447fd97a-d361-4f72-ab99-807bafdf8241",
   "metadata": {},
   "outputs": [],
   "source": [
    "# winner state: 0011"
   ]
  },
  {
   "cell_type": "code",
   "execution_count": 133,
   "id": "62673f83-6741-44bf-a069-4d2c2b82fef4",
   "metadata": {},
   "outputs": [
    {
     "data": {
      "text/html": [
       "<pre style=\"word-wrap: normal;white-space: pre;background: #fff0;line-height: 1.1;font-family: &quot;Courier New&quot;,Courier,monospace\">     ┌───┐         \n",
       "q_0: ┤ H ├─■───────\n",
       "     ├───┤ │       \n",
       "q_1: ┤ H ├─■──■────\n",
       "     ├───┤    │    \n",
       "q_2: ┤ H ├────■──■─\n",
       "     ├───┤       │ \n",
       "q_3: ┤ H ├───────■─\n",
       "     └───┘         </pre>"
      ],
      "text/plain": [
       "     ┌───┐         \n",
       "q_0: ┤ H ├─■───────\n",
       "     ├───┤ │       \n",
       "q_1: ┤ H ├─■──■────\n",
       "     ├───┤    │    \n",
       "q_2: ┤ H ├────■──■─\n",
       "     ├───┤       │ \n",
       "q_3: ┤ H ├───────■─\n",
       "     └───┘         "
      ]
     },
     "execution_count": 133,
     "metadata": {},
     "output_type": "execute_result"
    }
   ],
   "source": [
    "main.h([0,1,2,3])\n",
    "\n",
    "# oracle gate\n",
    "oracle.h([0,1,2,3])\n",
    "oracle.cz(0,1)\n",
    "oracle.cz(1,2)\n",
    "oracle.cz(2,3)\n",
    "oracle.to_gate()\n",
    "\n",
    "oracle.draw()"
   ]
  },
  {
   "cell_type": "code",
   "execution_count": 134,
   "id": "bce70c19-fc8e-416f-b6ee-945ebdd06642",
   "metadata": {},
   "outputs": [
    {
     "data": {
      "text/html": [
       "<pre style=\"word-wrap: normal;white-space: pre;background: #fff0;line-height: 1.1;font-family: &quot;Courier New&quot;,Courier,monospace\">     ┌───┐           \n",
       "q_0: ┤ H ├─────────■─\n",
       "     ├───┤         │ \n",
       "q_1: ┤ H ├──────■──┼─\n",
       "     ├───┤┌───┐ │  │ \n",
       "q_2: ┤ H ├┤ Z ├─■──┼─\n",
       "     ├───┤├───┤    │ \n",
       "q_3: ┤ H ├┤ Z ├────■─\n",
       "     └───┘└───┘      </pre>"
      ],
      "text/plain": [
       "     ┌───┐           \n",
       "q_0: ┤ H ├─────────■─\n",
       "     ├───┤         │ \n",
       "q_1: ┤ H ├──────■──┼─\n",
       "     ├───┤┌───┐ │  │ \n",
       "q_2: ┤ H ├┤ Z ├─■──┼─\n",
       "     ├───┤├───┤    │ \n",
       "q_3: ┤ H ├┤ Z ├────■─\n",
       "     └───┘└───┘      "
      ]
     },
     "execution_count": 134,
     "metadata": {},
     "output_type": "execute_result"
    }
   ],
   "source": [
    "# reflection gate\n",
    "reflection.h([0,1,2,3])\n",
    "reflection.z(2)\n",
    "reflection.cz(1,2)\n",
    "reflection.z(3)\n",
    "reflection.cz(0,3)\n",
    "reflection.to_gate()\n",
    "\n",
    "reflection.draw()"
   ]
  },
  {
   "cell_type": "code",
   "execution_count": 135,
   "id": "e8be15dc-7575-4404-8cc2-0e715da01a3a",
   "metadata": {},
   "outputs": [
    {
     "data": {
      "text/html": [
       "<pre style=\"word-wrap: normal;white-space: pre;background: #fff0;line-height: 1.1;font-family: &quot;Courier New&quot;,Courier,monospace\">     ┌───┐┌─────────┐┌─────────────┐\n",
       "q_0: ┤ H ├┤0        ├┤0            ├\n",
       "     ├───┤│         ││             │\n",
       "q_1: ┤ H ├┤1        ├┤1            ├\n",
       "     ├───┤│  oracle ││  reflection │\n",
       "q_2: ┤ H ├┤2        ├┤2            ├\n",
       "     ├───┤│         ││             │\n",
       "q_3: ┤ H ├┤3        ├┤3            ├\n",
       "     └───┘└─────────┘└─────────────┘</pre>"
      ],
      "text/plain": [
       "     ┌───┐┌─────────┐┌─────────────┐\n",
       "q_0: ┤ H ├┤0        ├┤0            ├\n",
       "     ├───┤│         ││             │\n",
       "q_1: ┤ H ├┤1        ├┤1            ├\n",
       "     ├───┤│  oracle ││  reflection │\n",
       "q_2: ┤ H ├┤2        ├┤2            ├\n",
       "     ├───┤│         ││             │\n",
       "q_3: ┤ H ├┤3        ├┤3            ├\n",
       "     └───┘└─────────┘└─────────────┘"
      ]
     },
     "execution_count": 135,
     "metadata": {},
     "output_type": "execute_result"
    }
   ],
   "source": [
    "main.append(oracle,[0,1,2,3])\n",
    "main.append(reflection,[0,1,2,3])\n",
    "\n",
    "main.draw()"
   ]
  },
  {
   "cell_type": "code",
   "execution_count": 136,
   "id": "dc42600d-3feb-46c1-8c8b-b4ac677d1c96",
   "metadata": {},
   "outputs": [
    {
     "data": {
      "text/html": [
       "<pre style=\"word-wrap: normal;white-space: pre;background: #fff0;line-height: 1.1;font-family: &quot;Courier New&quot;,Courier,monospace\">        ┌───┐┌─────────┐┌─────────────┐ ░ ┌─┐         \n",
       "   q_0: ┤ H ├┤0        ├┤0            ├─░─┤M├─────────\n",
       "        ├───┤│         ││             │ ░ └╥┘┌─┐      \n",
       "   q_1: ┤ H ├┤1        ├┤1            ├─░──╫─┤M├──────\n",
       "        ├───┤│  oracle ││  reflection │ ░  ║ └╥┘┌─┐   \n",
       "   q_2: ┤ H ├┤2        ├┤2            ├─░──╫──╫─┤M├───\n",
       "        ├───┤│         ││             │ ░  ║  ║ └╥┘┌─┐\n",
       "   q_3: ┤ H ├┤3        ├┤3            ├─░──╫──╫──╫─┤M├\n",
       "        └───┘└─────────┘└─────────────┘ ░  ║  ║  ║ └╥┘\n",
       "meas_0: ═══════════════════════════════════╩══╬══╬══╬═\n",
       "                                              ║  ║  ║ \n",
       "meas_1: ══════════════════════════════════════╩══╬══╬═\n",
       "                                                 ║  ║ \n",
       "meas_2: ═════════════════════════════════════════╩══╬═\n",
       "                                                    ║ \n",
       "meas_3: ════════════════════════════════════════════╩═\n",
       "                                                      </pre>"
      ],
      "text/plain": [
       "        ┌───┐┌─────────┐┌─────────────┐ ░ ┌─┐         \n",
       "   q_0: ┤ H ├┤0        ├┤0            ├─░─┤M├─────────\n",
       "        ├───┤│         ││             │ ░ └╥┘┌─┐      \n",
       "   q_1: ┤ H ├┤1        ├┤1            ├─░──╫─┤M├──────\n",
       "        ├───┤│  oracle ││  reflection │ ░  ║ └╥┘┌─┐   \n",
       "   q_2: ┤ H ├┤2        ├┤2            ├─░──╫──╫─┤M├───\n",
       "        ├───┤│         ││             │ ░  ║  ║ └╥┘┌─┐\n",
       "   q_3: ┤ H ├┤3        ├┤3            ├─░──╫──╫──╫─┤M├\n",
       "        └───┘└─────────┘└─────────────┘ ░  ║  ║  ║ └╥┘\n",
       "meas_0: ═══════════════════════════════════╩══╬══╬══╬═\n",
       "                                              ║  ║  ║ \n",
       "meas_1: ══════════════════════════════════════╩══╬══╬═\n",
       "                                                 ║  ║ \n",
       "meas_2: ═════════════════════════════════════════╩══╬═\n",
       "                                                    ║ \n",
       "meas_3: ════════════════════════════════════════════╩═\n",
       "                                                      "
      ]
     },
     "execution_count": 136,
     "metadata": {},
     "output_type": "execute_result"
    }
   ],
   "source": [
    "main.measure_all()\n",
    "main.draw()"
   ]
  },
  {
   "cell_type": "code",
   "execution_count": 137,
   "id": "f6de475e-5bf7-490a-bf5c-520dcdb7157e",
   "metadata": {},
   "outputs": [
    {
     "data": {
      "image/png": "[encoded data removed]",
      "text/plain": [
       "<Figure size 700x500 with 1 Axes>"
      ]
     },
     "execution_count": 137,
     "metadata": {},
     "output_type": "execute_result"
    }
   ],
   "source": [
    "from qiskit.tools.visualization import plot_histogram\n",
    "simulator = Aer.get_backend('statevector_simulator')\n",
    "result = execute(main, backend=simulator).result()\n",
    "plot_histogram(result.get_counts(main))"
   ]
  },
  {
   "cell_type": "code",
   "execution_count": 138,
   "id": "1988dfbb-ab69-4374-baf7-513822ef875d",
   "metadata": {},
   "outputs": [
    {
     "name": "stdout",
     "output_type": "stream",
     "text": [
      "{'0000': 1}\n"
     ]
    }
   ],
   "source": [
    "counts = result.get_counts(main)\n",
    "print(counts)"
   ]
  },
  {
   "cell_type": "code",
   "execution_count": null,
   "id": "d119bf66-bfca-4cf3-8382-28e4d4515445",
   "metadata": {},
   "outputs": [],
   "source": []
  }
 ],
 "metadata": {
  "kernelspec": {
   "display_name": "Python 3 (ipykernel)",
   "language": "python",
   "name": "python3"
  },
  "language_info": {
   "codemirror_mode": {
    "name": "ipython",
    "version": 3
   },
   "file_extension": ".py",
   "mimetype": "text/x-python",
   "name": "python",
   "nbconvert_exporter": "python",
   "pygments_lexer": "ipython3",
   "version": "3.10.6"
  }
 },
 "nbformat": 4,
 "nbformat_minor": 5
}
