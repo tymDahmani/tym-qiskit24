{
 "cells": [
  {
   "cell_type": "code",
   "execution_count": 2,
   "id": "4de69e66-982e-440a-9924-117967f333d6",
   "metadata": {},
   "outputs": [
    {
     "name": "stdout",
     "output_type": "stream",
     "text": [
      "{'01': 1024}\n"
     ]
    }
   ],
   "source": [
    "from qiskit import *\n",
    "qc = QuantumCircuit(2,2)\n",
    "qc.x(0)\n",
    "qc.measure(0,0)\n",
    "\n",
    "sim = Aer.get_backend('qasm_simulator')\n",
    "result = execute(qc, backend=sim).result()\n",
    "counts = result.get_counts(qc)\n",
    "print(counts)"
   ]
  },
  {
   "cell_type": "code",
   "execution_count": null,
   "id": "3d91ff05-6e6a-4198-96ce-bdadc409410f",
   "metadata": {},
   "outputs": [],
   "source": []
  }
 ],
 "metadata": {
  "kernelspec": {
   "display_name": "Python 3 (ipykernel)",
   "language": "python",
   "name": "python3"
  },
  "language_info": {
   "codemirror_mode": {
    "name": "ipython",
    "version": 3
   },
   "file_extension": ".py",
   "mimetype": "text/x-python",
   "name": "python",
   "nbconvert_exporter": "python",
   "pygments_lexer": "ipython3",
   "version": "3.10.6"
  }
 },
 "nbformat": 4,
 "nbformat_minor": 5
}
