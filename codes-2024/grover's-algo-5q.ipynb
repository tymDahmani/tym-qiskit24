{
 "cells": [
  {
   "cell_type": "code",
   "execution_count": 117,
   "id": "166fc892-0d1b-4733-84d6-9a116035b93e",
   "metadata": {},
   "outputs": [],
   "source": [
    "from qiskit import *\n",
    "from qiskit.tools.visualization import plot_histogram"
   ]
  },
  {
   "cell_type": "code",
   "execution_count": 118,
   "id": "3c23fc9c-0e44-44bf-b031-9a4069c4b317",
   "metadata": {},
   "outputs": [],
   "source": [
    "# winner state: 10101"
   ]
  },
  {
   "cell_type": "code",
   "execution_count": 119,
   "id": "59e5b07e-a43c-44ba-bd9a-3f87272e68ac",
   "metadata": {},
   "outputs": [],
   "source": [
    "main = QuantumCircuit(5)\n",
    "oracle = QuantumCircuit(5, name='oracle')\n",
    "reflection = QuantumCircuit(5, name='reflection')"
   ]
  },
  {
   "cell_type": "code",
   "execution_count": 120,
   "id": "15190006-42a9-4532-97eb-c0bc228a70b0",
   "metadata": {},
   "outputs": [
    {
     "data": {
      "text/html": [
       "<pre style=\"word-wrap: normal;white-space: pre;background: #fff0;line-height: 1.1;font-family: &quot;Courier New&quot;,Courier,monospace\">     ┌───┐┌───┐\n",
       "q_0: ┤ H ├┤ Z ├\n",
       "     ├───┤└───┘\n",
       "q_1: ┤ H ├─────\n",
       "     ├───┤┌───┐\n",
       "q_2: ┤ H ├┤ Z ├\n",
       "     ├───┤└───┘\n",
       "q_3: ┤ H ├─────\n",
       "     ├───┤┌───┐\n",
       "q_4: ┤ H ├┤ Z ├\n",
       "     └───┘└───┘</pre>"
      ],
      "text/plain": [
       "     ┌───┐┌───┐\n",
       "q_0: ┤ H ├┤ Z ├\n",
       "     ├───┤└───┘\n",
       "q_1: ┤ H ├─────\n",
       "     ├───┤┌───┐\n",
       "q_2: ┤ H ├┤ Z ├\n",
       "     ├───┤└───┘\n",
       "q_3: ┤ H ├─────\n",
       "     ├───┤┌───┐\n",
       "q_4: ┤ H ├┤ Z ├\n",
       "     └───┘└───┘"
      ]
     },
     "execution_count": 120,
     "metadata": {},
     "output_type": "execute_result"
    }
   ],
   "source": [
    "# oracle operator: to flip the sign of the winning state\n",
    "oracle.h([0,1,2,3,4])\n",
    "oracle.z([0,2,4])\n",
    "oracle.to_gate()\n",
    "\n",
    "oracle.draw()"
   ]
  },
  {
   "cell_type": "code",
   "execution_count": 121,
   "id": "81f10d13-227e-4473-a724-24fde6de6faa",
   "metadata": {},
   "outputs": [
    {
     "data": {
      "text/html": [
       "<pre style=\"word-wrap: normal;white-space: pre;background: #fff0;line-height: 1.1;font-family: &quot;Courier New&quot;,Courier,monospace\">     ┌───┐┌───┐   \n",
       "q_0: ┤ H ├┤ Z ├─■─\n",
       "     ├───┤└───┘ │ \n",
       "q_1: ┤ H ├──────■─\n",
       "     ├───┤┌───┐   \n",
       "q_2: ┤ H ├┤ Z ├─■─\n",
       "     ├───┤└───┘ │ \n",
       "q_3: ┤ H ├──────■─\n",
       "     ├───┤┌───┐   \n",
       "q_4: ┤ H ├┤ Z ├───\n",
       "     └───┘└───┘   </pre>"
      ],
      "text/plain": [
       "     ┌───┐┌───┐   \n",
       "q_0: ┤ H ├┤ Z ├─■─\n",
       "     ├───┤└───┘ │ \n",
       "q_1: ┤ H ├──────■─\n",
       "     ├───┤┌───┐   \n",
       "q_2: ┤ H ├┤ Z ├─■─\n",
       "     ├───┤└───┘ │ \n",
       "q_3: ┤ H ├──────■─\n",
       "     ├───┤┌───┐   \n",
       "q_4: ┤ H ├┤ Z ├───\n",
       "     └───┘└───┘   "
      ]
     },
     "execution_count": 121,
     "metadata": {},
     "output_type": "execute_result"
    }
   ],
   "source": [
    "# reflection operator\n",
    "reflection.h([0,1,2,3,4])\n",
    "reflection.z(0)\n",
    "reflection.cz(1,0)\n",
    "reflection.z(2)\n",
    "reflection.cz(3,2)\n",
    "reflection.z(4)\n",
    "reflection.to_gate()\n",
    "\n",
    "reflection.draw()"
   ]
  },
  {
   "cell_type": "code",
   "execution_count": 122,
   "id": "bb4f8a07-fe8a-4ce2-b3b7-6946ef5ed8f5",
   "metadata": {},
   "outputs": [
    {
     "data": {
      "text/html": [
       "<pre style=\"word-wrap: normal;white-space: pre;background: #fff0;line-height: 1.1;font-family: &quot;Courier New&quot;,Courier,monospace\">        ┌─────────┐┌─────────────┐ ░ ┌─┐            \n",
       "   q_0: ┤0        ├┤0            ├─░─┤M├────────────\n",
       "        │         ││             │ ░ └╥┘┌─┐         \n",
       "   q_1: ┤1        ├┤1            ├─░──╫─┤M├─────────\n",
       "        │         ││             │ ░  ║ └╥┘┌─┐      \n",
       "   q_2: ┤2 oracle ├┤2 reflection ├─░──╫──╫─┤M├──────\n",
       "        │         ││             │ ░  ║  ║ └╥┘┌─┐   \n",
       "   q_3: ┤3        ├┤3            ├─░──╫──╫──╫─┤M├───\n",
       "        │         ││             │ ░  ║  ║  ║ └╥┘┌─┐\n",
       "   q_4: ┤4        ├┤4            ├─░──╫──╫──╫──╫─┤M├\n",
       "        └─────────┘└─────────────┘ ░  ║  ║  ║  ║ └╥┘\n",
       "meas_0: ══════════════════════════════╩══╬══╬══╬══╬═\n",
       "                                         ║  ║  ║  ║ \n",
       "meas_1: ═════════════════════════════════╩══╬══╬══╬═\n",
       "                                            ║  ║  ║ \n",
       "meas_2: ════════════════════════════════════╩══╬══╬═\n",
       "                                               ║  ║ \n",
       "meas_3: ═══════════════════════════════════════╩══╬═\n",
       "                                                  ║ \n",
       "meas_4: ══════════════════════════════════════════╩═\n",
       "                                                    </pre>"
      ],
      "text/plain": [
       "        ┌─────────┐┌─────────────┐ ░ ┌─┐            \n",
       "   q_0: ┤0        ├┤0            ├─░─┤M├────────────\n",
       "        │         ││             │ ░ └╥┘┌─┐         \n",
       "   q_1: ┤1        ├┤1            ├─░──╫─┤M├─────────\n",
       "        │         ││             │ ░  ║ └╥┘┌─┐      \n",
       "   q_2: ┤2 oracle ├┤2 reflection ├─░──╫──╫─┤M├──────\n",
       "        │         ││             │ ░  ║  ║ └╥┘┌─┐   \n",
       "   q_3: ┤3        ├┤3            ├─░──╫──╫──╫─┤M├───\n",
       "        │         ││             │ ░  ║  ║  ║ └╥┘┌─┐\n",
       "   q_4: ┤4        ├┤4            ├─░──╫──╫──╫──╫─┤M├\n",
       "        └─────────┘└─────────────┘ ░  ║  ║  ║  ║ └╥┘\n",
       "meas_0: ══════════════════════════════╩══╬══╬══╬══╬═\n",
       "                                         ║  ║  ║  ║ \n",
       "meas_1: ═════════════════════════════════╩══╬══╬══╬═\n",
       "                                            ║  ║  ║ \n",
       "meas_2: ════════════════════════════════════╩══╬══╬═\n",
       "                                               ║  ║ \n",
       "meas_3: ═══════════════════════════════════════╩══╬═\n",
       "                                                  ║ \n",
       "meas_4: ══════════════════════════════════════════╩═\n",
       "                                                    "
      ]
     },
     "execution_count": 122,
     "metadata": {},
     "output_type": "execute_result"
    }
   ],
   "source": [
    "main.append(oracle,[0,1,2,3,4])\n",
    "main.append(reflection, [0,1,2,3,4])\n",
    "\n",
    "# measurement\n",
    "main.measure_all()\n",
    "main.draw()"
   ]
  },
  {
   "cell_type": "code",
   "execution_count": 123,
   "id": "e3d35fa6-179a-40ab-a83f-94476acc6320",
   "metadata": {},
   "outputs": [
    {
     "data": {
      "image/png": "[encoded data removed]",
      "text/plain": [
       "<Figure size 700x500 with 1 Axes>"
      ]
     },
     "execution_count": 123,
     "metadata": {},
     "output_type": "execute_result"
    }
   ],
   "source": [
    "simulator = Aer.get_backend('statevector_simulator')\n",
    "result = execute(main, backend=simulator).result()\n",
    "plot_histogram(result.get_counts(main))"
   ]
  },
  {
   "cell_type": "code",
   "execution_count": 124,
   "id": "009249c7-b6af-4150-abf0-f37dddfcd313",
   "metadata": {},
   "outputs": [
    {
     "name": "stdout",
     "output_type": "stream",
     "text": [
      "{'10101': 1}\n"
     ]
    }
   ],
   "source": [
    "counts = result.get_counts(main)\n",
    "print(counts)"
   ]
  },
  {
   "cell_type": "code",
   "execution_count": null,
   "id": "a04c4a10-19cf-451e-b3e2-1b9a71e13390",
   "metadata": {},
   "outputs": [],
   "source": []
  }
 ],
 "metadata": {
  "kernelspec": {
   "display_name": "Python 3 (ipykernel)",
   "language": "python",
   "name": "python3"
  },
  "language_info": {
   "codemirror_mode": {
    "name": "ipython",
    "version": 3
   },
   "file_extension": ".py",
   "mimetype": "text/x-python",
   "name": "python",
   "nbconvert_exporter": "python",
   "pygments_lexer": "ipython3",
   "version": "3.10.6"
  }
 },
 "nbformat": 4,
 "nbformat_minor": 5
}
