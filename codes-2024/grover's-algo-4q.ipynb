{
 "cells": [
  {
   "cell_type": "code",
   "execution_count": 121,
   "id": "1199481e-cf34-4f39-87cc-0b6aa852a5af",
   "metadata": {},
   "outputs": [],
   "source": [
    "from qiskit import *\n",
    "from qiskit.tools.visualization import plot_histogram\n",
    "# winner state: 0011"
   ]
  },
  {
   "cell_type": "code",
   "execution_count": 122,
   "id": "f2762acd-4ee4-4723-a605-c504e032af14",
   "metadata": {},
   "outputs": [],
   "source": [
    "main = QuantumCircuit(4)\n",
    "oracle = QuantumCircuit(4, name='oracle')\n",
    "reflection = QuantumCircuit(4, name='reflection')"
   ]
  },
  {
   "cell_type": "code",
   "execution_count": 123,
   "id": "fc3a4e4e-2ed9-43af-8541-b57810f2b829",
   "metadata": {},
   "outputs": [
    {
     "data": {
      "text/html": [
       "<pre style=\"word-wrap: normal;white-space: pre;background: #fff0;line-height: 1.1;font-family: &quot;Courier New&quot;,Courier,monospace\">     ┌───┐     \n",
       "q_0: ┤ H ├─────\n",
       "     ├───┤     \n",
       "q_1: ┤ H ├─────\n",
       "     ├───┤┌───┐\n",
       "q_2: ┤ H ├┤ Z ├\n",
       "     ├───┤├───┤\n",
       "q_3: ┤ H ├┤ Z ├\n",
       "     └───┘└───┘</pre>"
      ],
      "text/plain": [
       "     ┌───┐     \n",
       "q_0: ┤ H ├─────\n",
       "     ├───┤     \n",
       "q_1: ┤ H ├─────\n",
       "     ├───┤┌───┐\n",
       "q_2: ┤ H ├┤ Z ├\n",
       "     ├───┤├───┤\n",
       "q_3: ┤ H ├┤ Z ├\n",
       "     └───┘└───┘"
      ]
     },
     "execution_count": 123,
     "metadata": {},
     "output_type": "execute_result"
    }
   ],
   "source": [
    "# oracle operation\n",
    "oracle.h([0,1,2,3])\n",
    "oracle.z([2,3])\n",
    "oracle.to_gate()\n",
    "\n",
    "oracle.draw()"
   ]
  },
  {
   "cell_type": "code",
   "execution_count": 124,
   "id": "4f2395f0-98ca-4f54-bad2-9388bd632cc9",
   "metadata": {},
   "outputs": [
    {
     "data": {
      "text/html": [
       "<pre style=\"word-wrap: normal;white-space: pre;background: #fff0;line-height: 1.1;font-family: &quot;Courier New&quot;,Courier,monospace\">     ┌───┐           \n",
       "q_0: ┤ H ├──────■────\n",
       "     ├───┤      │    \n",
       "q_1: ┤ H ├──────┼──■─\n",
       "     ├───┤┌───┐ │  │ \n",
       "q_2: ┤ H ├┤ Z ├─■──┼─\n",
       "     ├───┤├───┤    │ \n",
       "q_3: ┤ H ├┤ Z ├────■─\n",
       "     └───┘└───┘      </pre>"
      ],
      "text/plain": [
       "     ┌───┐           \n",
       "q_0: ┤ H ├──────■────\n",
       "     ├───┤      │    \n",
       "q_1: ┤ H ├──────┼──■─\n",
       "     ├───┤┌───┐ │  │ \n",
       "q_2: ┤ H ├┤ Z ├─■──┼─\n",
       "     ├───┤├───┤    │ \n",
       "q_3: ┤ H ├┤ Z ├────■─\n",
       "     └───┘└───┘      "
      ]
     },
     "execution_count": 124,
     "metadata": {},
     "output_type": "execute_result"
    }
   ],
   "source": [
    "# reflection\n",
    "reflection.h([0,1,2,3])\n",
    "reflection.z(2)\n",
    "reflection.cz(0,2)\n",
    "reflection.z(3)\n",
    "reflection.cz(1,3)\n",
    "reflection.to_gate()\n",
    "\n",
    "reflection.draw()"
   ]
  },
  {
   "cell_type": "code",
   "execution_count": 125,
   "id": "7ab647b5-f951-4095-9890-033af3d94116",
   "metadata": {},
   "outputs": [
    {
     "data": {
      "text/html": [
       "<pre style=\"word-wrap: normal;white-space: pre;background: #fff0;line-height: 1.1;font-family: &quot;Courier New&quot;,Courier,monospace\">        ┌───┐┌─────────┐┌─────────────┐ ░ ┌─┐         \n",
       "   q_0: ┤ H ├┤0        ├┤0            ├─░─┤M├─────────\n",
       "        ├───┤│         ││             │ ░ └╥┘┌─┐      \n",
       "   q_1: ┤ H ├┤1        ├┤1            ├─░──╫─┤M├──────\n",
       "        ├───┤│  oracle ││  reflection │ ░  ║ └╥┘┌─┐   \n",
       "   q_2: ┤ H ├┤2        ├┤2            ├─░──╫──╫─┤M├───\n",
       "        ├───┤│         ││             │ ░  ║  ║ └╥┘┌─┐\n",
       "   q_3: ┤ H ├┤3        ├┤3            ├─░──╫──╫──╫─┤M├\n",
       "        └───┘└─────────┘└─────────────┘ ░  ║  ║  ║ └╥┘\n",
       "meas_0: ═══════════════════════════════════╩══╬══╬══╬═\n",
       "                                              ║  ║  ║ \n",
       "meas_1: ══════════════════════════════════════╩══╬══╬═\n",
       "                                                 ║  ║ \n",
       "meas_2: ═════════════════════════════════════════╩══╬═\n",
       "                                                    ║ \n",
       "meas_3: ════════════════════════════════════════════╩═\n",
       "                                                      </pre>"
      ],
      "text/plain": [
       "        ┌───┐┌─────────┐┌─────────────┐ ░ ┌─┐         \n",
       "   q_0: ┤ H ├┤0        ├┤0            ├─░─┤M├─────────\n",
       "        ├───┤│         ││             │ ░ └╥┘┌─┐      \n",
       "   q_1: ┤ H ├┤1        ├┤1            ├─░──╫─┤M├──────\n",
       "        ├───┤│  oracle ││  reflection │ ░  ║ └╥┘┌─┐   \n",
       "   q_2: ┤ H ├┤2        ├┤2            ├─░──╫──╫─┤M├───\n",
       "        ├───┤│         ││             │ ░  ║  ║ └╥┘┌─┐\n",
       "   q_3: ┤ H ├┤3        ├┤3            ├─░──╫──╫──╫─┤M├\n",
       "        └───┘└─────────┘└─────────────┘ ░  ║  ║  ║ └╥┘\n",
       "meas_0: ═══════════════════════════════════╩══╬══╬══╬═\n",
       "                                              ║  ║  ║ \n",
       "meas_1: ══════════════════════════════════════╩══╬══╬═\n",
       "                                                 ║  ║ \n",
       "meas_2: ═════════════════════════════════════════╩══╬═\n",
       "                                                    ║ \n",
       "meas_3: ════════════════════════════════════════════╩═\n",
       "                                                      "
      ]
     },
     "execution_count": 125,
     "metadata": {},
     "output_type": "execute_result"
    }
   ],
   "source": [
    "main.h([0,1,2,3])\n",
    "main.append(oracle, [0,1,2,3])\n",
    "main.append(reflection, [0,1,2,3])\n",
    "main.measure_all()\n",
    "\n",
    "main.draw()"
   ]
  },
  {
   "cell_type": "code",
   "execution_count": 126,
   "id": "7d5609b4-6fcb-4073-b5d6-cdeb7e216fbe",
   "metadata": {},
   "outputs": [
    {
     "data": {
      "image/png": "[encoded data removed]",
      "text/plain": [
       "<Figure size 700x500 with 1 Axes>"
      ]
     },
     "execution_count": 126,
     "metadata": {},
     "output_type": "execute_result"
    }
   ],
   "source": [
    "simu = Aer.get_backend('statevector_simulator')\n",
    "result = execute(main, backend=simu).result()\n",
    "plot_histogram(result.get_counts(main))"
   ]
  },
  {
   "cell_type": "code",
   "execution_count": 127,
   "id": "fe73ac34-37f6-4202-8e51-93899463eb69",
   "metadata": {},
   "outputs": [
    {
     "name": "stdout",
     "output_type": "stream",
     "text": [
      "{'0011': 1}\n"
     ]
    }
   ],
   "source": [
    "counts = result.get_counts(main)\n",
    "print(counts)"
   ]
  },
  {
   "cell_type": "code",
   "execution_count": null,
   "id": "acc99d75-8344-4bbc-87b1-88ccbaf30304",
   "metadata": {},
   "outputs": [],
   "source": []
  }
 ],
 "metadata": {
  "kernelspec": {
   "display_name": "Python 3 (ipykernel)",
   "language": "python",
   "name": "python3"
  },
  "language_info": {
   "codemirror_mode": {
    "name": "ipython",
    "version": 3
   },
   "file_extension": ".py",
   "mimetype": "text/x-python",
   "name": "python",
   "nbconvert_exporter": "python",
   "pygments_lexer": "ipython3",
   "version": "3.10.6"
  }
 },
 "nbformat": 4,
 "nbformat_minor": 5
}
