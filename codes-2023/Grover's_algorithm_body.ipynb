{
 "cells": [
  {
   "cell_type": "code",
   "execution_count": 34,
   "id": "cb26c184-3524-4da9-9120-350241b2b8ea",
   "metadata": {},
   "outputs": [],
   "source": [
    "from qiskit import *\n",
    "from qiskit.tools.visualization import plot_histogram"
   ]
  },
  {
   "cell_type": "code",
   "execution_count": 35,
   "id": "0a9a48a3-c960-43cd-84ff-7cce481b371a",
   "metadata": {},
   "outputs": [],
   "source": [
    "depres = QuantumCircuit(2, 2)"
   ]
  },
  {
   "cell_type": "code",
   "execution_count": 36,
   "id": "abea260e-d012-4ded-9d34-bbbf80743214",
   "metadata": {},
   "outputs": [
    {
     "data": {
      "text/plain": [
       "<qiskit.circuit.instructionset.InstructionSet at 0x2446735cf40>"
      ]
     },
     "execution_count": 36,
     "metadata": {},
     "output_type": "execute_result"
    }
   ],
   "source": [
    "depres.reset([0,1])"
   ]
  },
  {
   "cell_type": "code",
   "execution_count": 37,
   "id": "4f20655d-3008-4a7a-84e9-b8f475b1ec8a",
   "metadata": {},
   "outputs": [
    {
     "data": {
      "text/plain": [
       "<qiskit.circuit.instructionset.InstructionSet at 0x2446735d180>"
      ]
     },
     "execution_count": 37,
     "metadata": {},
     "output_type": "execute_result"
    }
   ],
   "source": [
    "depres.h([0,1])"
   ]
  },
  {
   "cell_type": "code",
   "execution_count": 38,
   "id": "8b135490-f19f-4dd3-ac7a-16496b546e6f",
   "metadata": {},
   "outputs": [
    {
     "data": {
      "text/plain": [
       "<qiskit.circuit.instructionset.InstructionSet at 0x2446735d4e0>"
      ]
     },
     "execution_count": 38,
     "metadata": {},
     "output_type": "execute_result"
    }
   ],
   "source": [
    "depres.x([0,1])"
   ]
  },
  {
   "cell_type": "code",
   "execution_count": 39,
   "id": "ce12b858-909c-4620-9dac-02b7523e6d88",
   "metadata": {},
   "outputs": [
    {
     "data": {
      "text/plain": [
       "<qiskit.circuit.instructionset.InstructionSet at 0x2446735d030>"
      ]
     },
     "execution_count": 39,
     "metadata": {},
     "output_type": "execute_result"
    }
   ],
   "source": [
    "depres.cz(0,1)"
   ]
  },
  {
   "cell_type": "code",
   "execution_count": 40,
   "id": "2fcc6a27-7644-4d7b-9b1b-73ac830af46c",
   "metadata": {},
   "outputs": [
    {
     "data": {
      "text/plain": [
       "<qiskit.circuit.instructionset.InstructionSet at 0x2442e0fa830>"
      ]
     },
     "execution_count": 40,
     "metadata": {},
     "output_type": "execute_result"
    }
   ],
   "source": [
    "depres.x([0,1])"
   ]
  },
  {
   "cell_type": "code",
   "execution_count": 41,
   "id": "30143a76-67ad-4ae2-8b8a-114bd5bc72bd",
   "metadata": {},
   "outputs": [
    {
     "data": {
      "text/plain": [
       "<qiskit.circuit.instructionset.InstructionSet at 0x2442e0fa980>"
      ]
     },
     "execution_count": 41,
     "metadata": {},
     "output_type": "execute_result"
    }
   ],
   "source": [
    "depres.h([0,1])"
   ]
  },
  {
   "cell_type": "code",
   "execution_count": 42,
   "id": "ef362bcc-1ab8-43d2-b753-4628677ae9eb",
   "metadata": {},
   "outputs": [
    {
     "data": {
      "text/plain": [
       "<qiskit.circuit.instructionset.InstructionSet at 0x2442e0fb850>"
      ]
     },
     "execution_count": 42,
     "metadata": {},
     "output_type": "execute_result"
    }
   ],
   "source": [
    "depres.z([0,1])"
   ]
  },
  {
   "cell_type": "code",
   "execution_count": 43,
   "id": "615a9b58-66de-423d-86b3-a0d79f60e944",
   "metadata": {},
   "outputs": [
    {
     "data": {
      "text/plain": [
       "<qiskit.circuit.instructionset.InstructionSet at 0x2442e0fa9b0>"
      ]
     },
     "execution_count": 43,
     "metadata": {},
     "output_type": "execute_result"
    }
   ],
   "source": [
    "depres.cz(0,1)"
   ]
  },
  {
   "cell_type": "code",
   "execution_count": 44,
   "id": "eb73c08f-07bb-4362-aced-a89360368451",
   "metadata": {},
   "outputs": [
    {
     "data": {
      "text/plain": [
       "<qiskit.circuit.instructionset.InstructionSet at 0x2442e0fa770>"
      ]
     },
     "execution_count": 44,
     "metadata": {},
     "output_type": "execute_result"
    }
   ],
   "source": [
    "depres.h([0,1])"
   ]
  },
  {
   "cell_type": "code",
   "execution_count": 45,
   "id": "1ba47dc6-f005-4692-a8e6-9bf7ce5ff756",
   "metadata": {},
   "outputs": [
    {
     "data": {
      "text/html": [
       "<pre style=\"word-wrap: normal;white-space: pre;background: #fff0;line-height: 1.1;font-family: &quot;Courier New&quot;,Courier,monospace\">          ┌───┐┌───┐   ┌───┐┌───┐┌───┐   ┌───┐┌─┐   \n",
       "q_0: ─|0>─┤ H ├┤ X ├─■─┤ X ├┤ H ├┤ Z ├─■─┤ H ├┤M├───\n",
       "          ├───┤├───┤ │ ├───┤├───┤├───┤ │ ├───┤└╥┘┌─┐\n",
       "q_1: ─|0>─┤ H ├┤ X ├─■─┤ X ├┤ H ├┤ Z ├─■─┤ H ├─╫─┤M├\n",
       "          └───┘└───┘   └───┘└───┘└───┘   └───┘ ║ └╥┘\n",
       "c_0: ══════════════════════════════════════════╩══╬═\n",
       "                                                  ║ \n",
       "c_1: ═════════════════════════════════════════════╩═\n",
       "                                                    </pre>"
      ],
      "text/plain": [
       "          ┌───┐┌───┐   ┌───┐┌───┐┌───┐   ┌───┐┌─┐   \n",
       "q_0: ─|0>─┤ H ├┤ X ├─■─┤ X ├┤ H ├┤ Z ├─■─┤ H ├┤M├───\n",
       "          ├───┤├───┤ │ ├───┤├───┤├───┤ │ ├───┤└╥┘┌─┐\n",
       "q_1: ─|0>─┤ H ├┤ X ├─■─┤ X ├┤ H ├┤ Z ├─■─┤ H ├─╫─┤M├\n",
       "          └───┘└───┘   └───┘└───┘└───┘   └───┘ ║ └╥┘\n",
       "c_0: ══════════════════════════════════════════╩══╬═\n",
       "                                                  ║ \n",
       "c_1: ═════════════════════════════════════════════╩═\n",
       "                                                    "
      ]
     },
     "execution_count": 45,
     "metadata": {},
     "output_type": "execute_result"
    }
   ],
   "source": [
    "depres.measure([0,1], [0,1])\n",
    "depres.draw()"
   ]
  },
  {
   "cell_type": "code",
   "execution_count": 46,
   "id": "7f946d36-9a00-48d8-98b1-26c099079792",
   "metadata": {},
   "outputs": [
    {
     "name": "stdout",
     "output_type": "stream",
     "text": [
      "{'00': 1024}\n"
     ]
    }
   ],
   "source": [
    "broke =  Aer.get_backend('qasm_simulator')\n",
    "monakoNnikolai = execute(depres, backend = broke).result()\n",
    "s_ad = monakoNnikolai.get_counts(depres)\n",
    "print(s_ad)"
   ]
  },
  {
   "cell_type": "code",
   "execution_count": null,
   "id": "7d961f5a-6fb1-47b4-9111-f76d94294949",
   "metadata": {},
   "outputs": [],
   "source": []
  }
 ],
 "metadata": {
  "kernelspec": {
   "display_name": "Python 3 (ipykernel)",
   "language": "python",
   "name": "python3"
  },
  "language_info": {
   "codemirror_mode": {
    "name": "ipython",
    "version": 3
   },
   "file_extension": ".py",
   "mimetype": "text/x-python",
   "name": "python",
   "nbconvert_exporter": "python",
   "pygments_lexer": "ipython3",
   "version": "3.10.6"
  }
 },
 "nbformat": 4,
 "nbformat_minor": 5
}
