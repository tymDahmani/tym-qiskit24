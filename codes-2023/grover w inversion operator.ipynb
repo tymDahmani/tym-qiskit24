{
 "cells": [
  {
   "cell_type": "code",
   "execution_count": 8,
   "id": "7b1e10a3-1835-4f88-ad1a-077fd93b9b03",
   "metadata": {},
   "outputs": [],
   "source": [
    "from qiskit import *"
   ]
  },
  {
   "cell_type": "code",
   "execution_count": 9,
   "id": "f66d018f-8b64-4d0c-a252-eab6bf269dcc",
   "metadata": {},
   "outputs": [],
   "source": [
    "homesick = QuantumCircuit(3, 2)"
   ]
  },
  {
   "cell_type": "code",
   "execution_count": 10,
   "id": "db347fd1-a6b2-441a-b317-5faca0056d98",
   "metadata": {},
   "outputs": [],
   "source": [
    "def phase_kickback(c): #c = circuit\n",
    "    c.x(0)\n",
    "    c.cz(0,1)\n",
    "    c.x(0)"
   ]
  },
  {
   "cell_type": "code",
   "execution_count": 11,
   "id": "c6a74b96-9583-4a9c-8d9e-c3eed5d3f333",
   "metadata": {},
   "outputs": [],
   "source": [
    "#applying the inversion operator\n",
    "\n",
    "# prepare the ancilla qubit\n",
    "def ancilla_prep(c):\n",
    "    c.x(2)\n",
    "    c.h(2)\n",
    "\n",
    "def inversion(c):\n",
    "    c.h([0,1])\n",
    "    c.x([0,1])\n",
    "\n",
    "    c.ccx(0,1,2)\n",
    "\n",
    "    c.x(2) #for the ancilla\n",
    "\n",
    "    c.x([0,1])\n",
    "    c.h([0,1])\n",
    "\n",
    "#     set ancilla back\n",
    "    c.h(2)\n",
    "    c.x(2)"
   ]
  },
  {
   "cell_type": "code",
   "execution_count": 12,
   "id": "d4493f75-42c5-40c6-a5dc-2686fcec48ca",
   "metadata": {},
   "outputs": [
    {
     "data": {
      "text/html": [
       "<pre style=\"word-wrap: normal;white-space: pre;background: #fff0;line-height: 1.1;font-family: &quot;Courier New&quot;,Courier,monospace\">     ┌───┐ ░            ░ ┌───┐   ┌───┐ ░ ┌───┐┌───┐     ┌───┐┌───┐      ░ \n",
       "q_0: ┤ H ├─░────────────░─┤ X ├─■─┤ X ├─░─┤ H ├┤ X ├──■──┤ X ├┤ H ├──────░─\n",
       "     ├───┤ ░            ░ └───┘ │ └───┘ ░ ├───┤├───┤  │  ├───┤├───┤      ░ \n",
       "q_1: ┤ H ├─░────────────░───────■───────░─┤ H ├┤ X ├──■──┤ X ├┤ H ├──────░─\n",
       "     └───┘ ░ ┌───┐┌───┐ ░               ░ └───┘└───┘┌─┴─┐├───┤├───┤┌───┐ ░ \n",
       "q_2: ──────░─┤ X ├┤ H ├─░───────────────░───────────┤ X ├┤ X ├┤ H ├┤ X ├─░─\n",
       "           ░ └───┘└───┘ ░               ░           └───┘└───┘└───┘└───┘ ░ \n",
       "c_0: ══════════════════════════════════════════════════════════════════════\n",
       "                                                                           \n",
       "c_1: ══════════════════════════════════════════════════════════════════════\n",
       "                                                                           </pre>"
      ],
      "text/plain": [
       "     ┌───┐ ░            ░ ┌───┐   ┌───┐ ░ ┌───┐┌───┐     ┌───┐┌───┐      ░ \n",
       "q_0: ┤ H ├─░────────────░─┤ X ├─■─┤ X ├─░─┤ H ├┤ X ├──■──┤ X ├┤ H ├──────░─\n",
       "     ├───┤ ░            ░ └───┘ │ └───┘ ░ ├───┤├───┤  │  ├───┤├───┤      ░ \n",
       "q_1: ┤ H ├─░────────────░───────■───────░─┤ H ├┤ X ├──■──┤ X ├┤ H ├──────░─\n",
       "     └───┘ ░ ┌───┐┌───┐ ░               ░ └───┘└───┘┌─┴─┐├───┤├───┤┌───┐ ░ \n",
       "q_2: ──────░─┤ X ├┤ H ├─░───────────────░───────────┤ X ├┤ X ├┤ H ├┤ X ├─░─\n",
       "           ░ └───┘└───┘ ░               ░           └───┘└───┘└───┘└───┘ ░ \n",
       "c_0: ══════════════════════════════════════════════════════════════════════\n",
       "                                                                           \n",
       "c_1: ══════════════════════════════════════════════════════════════════════\n",
       "                                                                           "
      ]
     },
     "execution_count": 12,
     "metadata": {},
     "output_type": "execute_result"
    }
   ],
   "source": [
    "homesick.h([0,1])\n",
    "homesick.barrier()\n",
    "\n",
    "ancilla_prep(homesick)\n",
    "homesick.barrier()\n",
    "\n",
    "phase_kickback(homesick)\n",
    "homesick.barrier()\n",
    "\n",
    "inversion(homesick)\n",
    "homesick.barrier()\n",
    "\n",
    "# homesick.measure([0,1],[0,1])\n",
    "\n",
    "homesick.draw()"
   ]
  },
  {
   "cell_type": "code",
   "execution_count": 13,
   "id": "4ce40e5b-4b6d-4ece-86e4-dc79bafe0a68",
   "metadata": {},
   "outputs": [
    {
     "data": {
      "text/html": [
       "<pre style=\"word-wrap: normal;white-space: pre;background: #fff0;line-height: 1.1;font-family: &quot;Courier New&quot;,Courier,monospace\">     ┌───┐ ░            ░ ┌───┐   ┌───┐ ░ ┌───┐┌───┐     ┌───┐┌───┐      ░ »\n",
       "q_0: ┤ H ├─░────────────░─┤ X ├─■─┤ X ├─░─┤ H ├┤ X ├──■──┤ X ├┤ H ├──────░─»\n",
       "     ├───┤ ░            ░ └───┘ │ └───┘ ░ ├───┤├───┤  │  ├───┤├───┤      ░ »\n",
       "q_1: ┤ H ├─░────────────░───────■───────░─┤ H ├┤ X ├──■──┤ X ├┤ H ├──────░─»\n",
       "     └───┘ ░ ┌───┐┌───┐ ░               ░ └───┘└───┘┌─┴─┐├───┤├───┤┌───┐ ░ »\n",
       "q_2: ──────░─┤ X ├┤ H ├─░───────────────░───────────┤ X ├┤ X ├┤ H ├┤ X ├─░─»\n",
       "           ░ └───┘└───┘ ░               ░           └───┘└───┘└───┘└───┘ ░ »\n",
       "c_0: ══════════════════════════════════════════════════════════════════════»\n",
       "                                                                           »\n",
       "c_1: ══════════════════════════════════════════════════════════════════════»\n",
       "                                                                           »\n",
       "«     ┌───┐   ┌───┐ ░ ┌───┐┌───┐     ┌───┐┌───┐     ┌─┐   \n",
       "«q_0: ┤ X ├─■─┤ X ├─░─┤ H ├┤ X ├──■──┤ X ├┤ H ├─────┤M├───\n",
       "«     └───┘ │ └───┘ ░ ├───┤├───┤  │  ├───┤├───┤     └╥┘┌─┐\n",
       "«q_1: ──────■───────░─┤ H ├┤ X ├──■──┤ X ├┤ H ├──────╫─┤M├\n",
       "«                   ░ └───┘└───┘┌─┴─┐├───┤├───┤┌───┐ ║ └╥┘\n",
       "«q_2: ──────────────░───────────┤ X ├┤ X ├┤ H ├┤ X ├─╫──╫─\n",
       "«                   ░           └───┘└───┘└───┘└───┘ ║  ║ \n",
       "«c_0: ═══════════════════════════════════════════════╩══╬═\n",
       "«                                                       ║ \n",
       "«c_1: ══════════════════════════════════════════════════╩═\n",
       "«                                                         </pre>"
      ],
      "text/plain": [
       "     ┌───┐ ░            ░ ┌───┐   ┌───┐ ░ ┌───┐┌───┐     ┌───┐┌───┐      ░ »\n",
       "q_0: ┤ H ├─░────────────░─┤ X ├─■─┤ X ├─░─┤ H ├┤ X ├──■──┤ X ├┤ H ├──────░─»\n",
       "     ├───┤ ░            ░ └───┘ │ └───┘ ░ ├───┤├───┤  │  ├───┤├───┤      ░ »\n",
       "q_1: ┤ H ├─░────────────░───────■───────░─┤ H ├┤ X ├──■──┤ X ├┤ H ├──────░─»\n",
       "     └───┘ ░ ┌───┐┌───┐ ░               ░ └───┘└───┘┌─┴─┐├───┤├───┤┌───┐ ░ »\n",
       "q_2: ──────░─┤ X ├┤ H ├─░───────────────░───────────┤ X ├┤ X ├┤ H ├┤ X ├─░─»\n",
       "           ░ └───┘└───┘ ░               ░           └───┘└───┘└───┘└───┘ ░ »\n",
       "c_0: ══════════════════════════════════════════════════════════════════════»\n",
       "                                                                           »\n",
       "c_1: ══════════════════════════════════════════════════════════════════════»\n",
       "                                                                           »\n",
       "«     ┌───┐   ┌───┐ ░ ┌───┐┌───┐     ┌───┐┌───┐     ┌─┐   \n",
       "«q_0: ┤ X ├─■─┤ X ├─░─┤ H ├┤ X ├──■──┤ X ├┤ H ├─────┤M├───\n",
       "«     └───┘ │ └───┘ ░ ├───┤├───┤  │  ├───┤├───┤     └╥┘┌─┐\n",
       "«q_1: ──────■───────░─┤ H ├┤ X ├──■──┤ X ├┤ H ├──────╫─┤M├\n",
       "«                   ░ └───┘└───┘┌─┴─┐├───┤├───┤┌───┐ ║ └╥┘\n",
       "«q_2: ──────────────░───────────┤ X ├┤ X ├┤ H ├┤ X ├─╫──╫─\n",
       "«                   ░           └───┘└───┘└───┘└───┘ ║  ║ \n",
       "«c_0: ═══════════════════════════════════════════════╩══╬═\n",
       "«                                                       ║ \n",
       "«c_1: ══════════════════════════════════════════════════╩═\n",
       "«                                                         "
      ]
     },
     "execution_count": 13,
     "metadata": {},
     "output_type": "execute_result"
    }
   ],
   "source": [
    "# 2nd phase kickback\n",
    "phase_kickback(homesick)\n",
    "\n",
    "homesick.barrier()\n",
    "\n",
    "# 2nd inversion operator\n",
    "inversion(homesick)\n",
    "\n",
    "homesick.measure([0,1],[0,1])\n",
    "\n",
    "homesick.draw()"
   ]
  },
  {
   "cell_type": "code",
   "execution_count": 14,
   "id": "d248414f-7788-4b16-b6df-677295ec3efd",
   "metadata": {},
   "outputs": [
    {
     "name": "stdout",
     "output_type": "stream",
     "text": [
      "10 is observed 6240 times\n",
      "01 is observed 1259 times\n",
      "11 is observed 1240 times\n",
      "00 is observed 1261 times\n"
     ]
    }
   ],
   "source": [
    "job = execute(homesick,Aer.get_backend('qasm_simulator'),shots=10000)\n",
    "counts8 = job.result().get_counts(homesick)\n",
    "# print the reverse of the outcome\n",
    "for outcome in counts8:\n",
    "    print(outcome,\"is observed\",counts8[outcome],\"times\")"
   ]
  },
  {
   "cell_type": "code",
   "execution_count": 320,
   "id": "2423e830-98c4-4d57-b14c-1539c0943707",
   "metadata": {},
   "outputs": [
    {
     "name": "stdout",
     "output_type": "stream",
     "text": [
      "{'1': 490, '0': 510}\n"
     ]
    }
   ],
   "source": [
    "h1_test = QuantumCircuit(1,1)\n",
    "h1_test.x(0)\n",
    "h1_test.h(0)\n",
    "\n",
    "h1_test.measure(0,0)\n",
    "\n",
    "simulator = Aer.get_backend('qasm_simulator')\n",
    "result1 = execute(h1_test, backend=simulator, shots=1000).result()\n",
    "counts1 = result1.get_counts(h1_test)\n",
    "\n",
    "h1_test.draw()\n",
    "print(counts1)"
   ]
  },
  {
   "cell_type": "code",
   "execution_count": null,
   "id": "29e2f89b-8f4b-474a-b09b-7c39aa2b8285",
   "metadata": {},
   "outputs": [],
   "source": []
  }
 ],
 "metadata": {
  "kernelspec": {
   "display_name": "Python 3 (ipykernel)",
   "language": "python",
   "name": "python3"
  },
  "language_info": {
   "codemirror_mode": {
    "name": "ipython",
    "version": 3
   },
   "file_extension": ".py",
   "mimetype": "text/x-python",
   "name": "python",
   "nbconvert_exporter": "python",
   "pygments_lexer": "ipython3",
   "version": "3.10.6"
  }
 },
 "nbformat": 4,
 "nbformat_minor": 5
}
