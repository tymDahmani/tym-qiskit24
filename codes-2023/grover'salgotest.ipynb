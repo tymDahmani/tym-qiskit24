{
 "cells": [
  {
   "cell_type": "code",
   "execution_count": 108,
   "id": "7db134fc-f06f-43fa-bd89-2076ce2d4662",
   "metadata": {},
   "outputs": [
    {
     "name": "stdout",
     "output_type": "stream",
     "text": [
      "{'11': 1}\n"
     ]
    }
   ],
   "source": [
    "from qiskit import *\n",
    "import numpy as np\n",
    "\n",
    "\n",
    "\n",
    "# follwoing the tutorial steps code:\n",
    "\n",
    "# define the oracle circuit\n",
    "oracle = QuantumCircuit(2, name='oracle')\n",
    "oracle.cz(0,1)\n",
    "oracle.to_gate()\n",
    "# oracle.draw()\n",
    "\n",
    "backend = Aer.get_backend('statevector_simulator')\n",
    "grover_circ = QuantumCircuit(2,2)\n",
    "grover_circ.h([0,1])\n",
    "grover_circ.append(oracle,[0,1])\n",
    "# grover_circ.draw()\n",
    "\n",
    "result = execute(grover_circ, backend).result()\n",
    "\n",
    "sv = result.get_statevector()\n",
    "np.around(sv,2)\n",
    "\n",
    "reflection = QuantumCircuit(2, name = 'reflection')\n",
    "reflection.h([0,1])\n",
    "# flip the state of 00, to reflect the phase of the qubit \n",
    "reflection.z([0,1])\n",
    "reflection.cz(0,1)\n",
    "\n",
    "reflection.h([0,1])\n",
    "reflection.to_gate()\n",
    "\n",
    "\n",
    "# reflection.draw()\n",
    "\n",
    "simulator = Aer.get_backend('qasm_simulator')\n",
    "grover_circ = QuantumCircuit(2,2)\n",
    "grover_circ.h([0,1])\n",
    "grover_circ.append(oracle,[0,1])\n",
    "grover_circ.append(reflection,[0,1])\n",
    "grover_circ.measure([0,1],[0,1])\n",
    "\n",
    "grover_circ.draw()\n",
    "\n",
    "result = execute(grover_circ, backend = simulator, shots = 1).result()\n",
    "counts = result.get_counts(grover_circ)\n",
    "print(counts)"
   ]
  },
  {
   "cell_type": "code",
   "execution_count": 109,
   "id": "a44eb6fe-12b5-4f57-aea2-a040fe9db277",
   "metadata": {},
   "outputs": [
    {
     "data": {
      "text/html": [
       "<pre style=\"word-wrap: normal;white-space: pre;background: #fff0;line-height: 1.1;font-family: &quot;Courier New&quot;,Courier,monospace\">     ┌───┐      \n",
       "q_0: ┤ H ├─■────\n",
       "     ├───┤ │    \n",
       "q_1: ┤ H ├─■──■─\n",
       "     ├───┤    │ \n",
       "q_2: ┤ H ├────■─\n",
       "     └───┘      </pre>"
      ],
      "text/plain": [
       "     ┌───┐      \n",
       "q_0: ┤ H ├─■────\n",
       "     ├───┤ │    \n",
       "q_1: ┤ H ├─■──■─\n",
       "     ├───┤    │ \n",
       "q_2: ┤ H ├────■─\n",
       "     └───┘      "
      ]
     },
     "execution_count": 109,
     "metadata": {},
     "output_type": "execute_result"
    }
   ],
   "source": [
    "#  my own code ( u (me) didnt see the original code, u made this from ur understanding, so be proud. ik you dont deserve but at least smile before u sleep, u might die while crying tonight...)\n",
    "\n",
    "# winner state = 010\n",
    "\n",
    "oracle = QuantumCircuit(3,name='oacle')\n",
    "oracle.h([0,1,2])\n",
    "oracle.cz(1,0)\n",
    "oracle.cz(1,2)\n",
    "oracle.to_gate()\n",
    "oracle.draw()"
   ]
  },
  {
   "cell_type": "code",
   "execution_count": 110,
   "id": "ec87f2bd-cc1a-4b17-9a6e-36bfb04c8e42",
   "metadata": {},
   "outputs": [
    {
     "data": {
      "text/html": [
       "<pre style=\"word-wrap: normal;white-space: pre;background: #fff0;line-height: 1.1;font-family: &quot;Courier New&quot;,Courier,monospace\">     ┌───┐┌────────┐\n",
       "q_0: ┤ H ├┤0       ├\n",
       "     ├───┤│        │\n",
       "q_1: ┤ H ├┤1 oacle ├\n",
       "     ├───┤│        │\n",
       "q_2: ┤ H ├┤2       ├\n",
       "     └───┘└────────┘\n",
       "c_0: ═══════════════\n",
       "                    \n",
       "c_1: ═══════════════\n",
       "                    \n",
       "c_2: ═══════════════\n",
       "                    </pre>"
      ],
      "text/plain": [
       "     ┌───┐┌────────┐\n",
       "q_0: ┤ H ├┤0       ├\n",
       "     ├───┤│        │\n",
       "q_1: ┤ H ├┤1 oacle ├\n",
       "     ├───┤│        │\n",
       "q_2: ┤ H ├┤2       ├\n",
       "     └───┘└────────┘\n",
       "c_0: ═══════════════\n",
       "                    \n",
       "c_1: ═══════════════\n",
       "                    \n",
       "c_2: ═══════════════\n",
       "                    "
      ]
     },
     "execution_count": 110,
     "metadata": {},
     "output_type": "execute_result"
    }
   ],
   "source": [
    "grover_sad = QuantumCircuit(3,3)\n",
    "grover_sad.h([0,1,2])\n",
    "grover_sad.append(oracle,[0,1,2])\n",
    "grover_sad.draw()"
   ]
  },
  {
   "cell_type": "code",
   "execution_count": 111,
   "id": "eadb5f58-6e56-41bc-ac33-1a902dd625a6",
   "metadata": {},
   "outputs": [
    {
     "data": {
      "text/html": [
       "<pre style=\"word-wrap: normal;white-space: pre;background: #fff0;line-height: 1.1;font-family: &quot;Courier New&quot;,Courier,monospace\">     ┌───┐┌────────┐┌─────────────┐\n",
       "q_0: ┤ H ├┤0       ├┤0            ├\n",
       "     ├───┤│        ││             │\n",
       "q_1: ┤ H ├┤1 oacle ├┤1 reflection ├\n",
       "     ├───┤│        ││             │\n",
       "q_2: ┤ H ├┤2       ├┤2            ├\n",
       "     └───┘└────────┘└─────────────┘\n",
       "c_0: ══════════════════════════════\n",
       "                                   \n",
       "c_1: ══════════════════════════════\n",
       "                                   \n",
       "c_2: ══════════════════════════════\n",
       "                                   </pre>"
      ],
      "text/plain": [
       "     ┌───┐┌────────┐┌─────────────┐\n",
       "q_0: ┤ H ├┤0       ├┤0            ├\n",
       "     ├───┤│        ││             │\n",
       "q_1: ┤ H ├┤1 oacle ├┤1 reflection ├\n",
       "     ├───┤│        ││             │\n",
       "q_2: ┤ H ├┤2       ├┤2            ├\n",
       "     └───┘└────────┘└─────────────┘\n",
       "c_0: ══════════════════════════════\n",
       "                                   \n",
       "c_1: ══════════════════════════════\n",
       "                                   \n",
       "c_2: ══════════════════════════════\n",
       "                                   "
      ]
     },
     "execution_count": 111,
     "metadata": {},
     "output_type": "execute_result"
    }
   ],
   "source": [
    "# reflectiom\n",
    "reflection = QuantumCircuit(3, name = 'reflection')\n",
    "reflection.h([0,1,2])\n",
    "\n",
    "# reflect the winning state\n",
    "reflection.z([1])\n",
    "reflection.cz(0,1)\n",
    "\n",
    "grover_sad.append(reflection,[0,1,2])\n",
    "grover_sad.draw()"
   ]
  },
  {
   "cell_type": "code",
   "execution_count": 112,
   "id": "417f79ad-0811-4bf9-b04f-a6946d7d7ca1",
   "metadata": {},
   "outputs": [
    {
     "data": {
      "text/html": [
       "<pre style=\"word-wrap: normal;white-space: pre;background: #fff0;line-height: 1.1;font-family: &quot;Courier New&quot;,Courier,monospace\">     ┌───┐┌────────┐┌─────────────┐┌─┐      \n",
       "q_0: ┤ H ├┤0       ├┤0            ├┤M├──────\n",
       "     ├───┤│        ││             │└╥┘┌─┐   \n",
       "q_1: ┤ H ├┤1 oacle ├┤1 reflection ├─╫─┤M├───\n",
       "     ├───┤│        ││             │ ║ └╥┘┌─┐\n",
       "q_2: ┤ H ├┤2       ├┤2            ├─╫──╫─┤M├\n",
       "     └───┘└────────┘└─────────────┘ ║  ║ └╥┘\n",
       "c_0: ═══════════════════════════════╩══╬══╬═\n",
       "                                       ║  ║ \n",
       "c_1: ══════════════════════════════════╩══╬═\n",
       "                                          ║ \n",
       "c_2: ═════════════════════════════════════╩═\n",
       "                                            </pre>"
      ],
      "text/plain": [
       "     ┌───┐┌────────┐┌─────────────┐┌─┐      \n",
       "q_0: ┤ H ├┤0       ├┤0            ├┤M├──────\n",
       "     ├───┤│        ││             │└╥┘┌─┐   \n",
       "q_1: ┤ H ├┤1 oacle ├┤1 reflection ├─╫─┤M├───\n",
       "     ├───┤│        ││             │ ║ └╥┘┌─┐\n",
       "q_2: ┤ H ├┤2       ├┤2            ├─╫──╫─┤M├\n",
       "     └───┘└────────┘└─────────────┘ ║  ║ └╥┘\n",
       "c_0: ═══════════════════════════════╩══╬══╬═\n",
       "                                       ║  ║ \n",
       "c_1: ══════════════════════════════════╩══╬═\n",
       "                                          ║ \n",
       "c_2: ═════════════════════════════════════╩═\n",
       "                                            "
      ]
     },
     "execution_count": 112,
     "metadata": {},
     "output_type": "execute_result"
    }
   ],
   "source": [
    "grover_sad.measure([0,1,2], [0,1,2])\n",
    "grover_sad.draw()"
   ]
  },
  {
   "cell_type": "code",
   "execution_count": 113,
   "id": "31c54410-4808-4869-a7d1-e6843d744a25",
   "metadata": {},
   "outputs": [
    {
     "name": "stdout",
     "output_type": "stream",
     "text": [
      "{'011': 10, '110': 8, '010': 18, '000': 15, '100': 16, '111': 13, '101': 10, '001': 10}\n"
     ]
    }
   ],
   "source": [
    "simulator = Aer.get_backend('qasm_simulator')\n",
    "depression = execute(grover_sad, backend = simulator, shots = 100).result()\n",
    "tears = depression.get_counts(grover_sad)\n",
    "print(tears)"
   ]
  },
  {
   "cell_type": "code",
   "execution_count": 114,
   "id": "0fcd6827-c4cf-4d53-bc03-490a4a7cd9e0",
   "metadata": {},
   "outputs": [],
   "source": [
    "# IT WOKRED!!!!!! WEEEEEEEEEEEEE, okay, enough happiness for tonight."
   ]
  },
  {
   "cell_type": "code",
   "execution_count": 115,
   "id": "afca5628-1dc1-4d69-9b96-1f7a047e832c",
   "metadata": {},
   "outputs": [],
   "source": [
    "# i told u, ur happiness never ends with a good result. try again failure"
   ]
  },
  {
   "cell_type": "code",
   "execution_count": 116,
   "id": "13e93731-5cdd-4101-8b10-46a1e906a21d",
   "metadata": {},
   "outputs": [
    {
     "data": {
      "image/png": "[encoded data removed]",
      "text/plain": [
       "<Figure size 700x500 with 1 Axes>"
      ]
     },
     "execution_count": 116,
     "metadata": {},
     "output_type": "execute_result"
    }
   ],
   "source": [
    "from qiskit.tools.visualization import plot_histogram\n",
    "plot_histogram(depression.get_counts(grover_sad))"
   ]
  },
  {
   "cell_type": "code",
   "execution_count": null,
   "id": "32e4b057-863c-4aa8-b7b8-1070eb4f3e96",
   "metadata": {},
   "outputs": [],
   "source": []
  }
 ],
 "metadata": {
  "kernelspec": {
   "display_name": "Python 3 (ipykernel)",
   "language": "python",
   "name": "python3"
  },
  "language_info": {
   "codemirror_mode": {
    "name": "ipython",
    "version": 3
   },
   "file_extension": ".py",
   "mimetype": "text/x-python",
   "name": "python",
   "nbconvert_exporter": "python",
   "pygments_lexer": "ipython3",
   "version": "3.10.6"
  }
 },
 "nbformat": 4,
 "nbformat_minor": 5
}
