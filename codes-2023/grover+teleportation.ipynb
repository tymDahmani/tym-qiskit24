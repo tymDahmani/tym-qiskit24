{
 "cells": [
  {
   "cell_type": "code",
   "execution_count": 49,
   "id": "3c8aa99b-71f7-497c-bd2a-873e2028c06b",
   "metadata": {},
   "outputs": [],
   "source": [
    "from qiskit import *"
   ]
  },
  {
   "cell_type": "code",
   "execution_count": 50,
   "id": "659f9b55-011f-408f-abee-8b40aeb53226",
   "metadata": {},
   "outputs": [],
   "source": [
    "two_moons = QuantumCircuit(3,3) #ancilla number 3 (index 2)\n",
    "\n",
    "# state needed to be teleported:\n",
    "def phase_kickback(c):\n",
    "    c.x(1)\n",
    "    c.cz(1,0)\n",
    "    c.x(1)\n",
    "    \n",
    "    c.barrier()\n",
    "    \n",
    "def ancilla(c):\n",
    "#     prepare the ancilla\n",
    "    c.x(2)\n",
    "    c.h(2)\n",
    "    \n",
    "    c.barrier()\n",
    "    \n",
    "def inversion(c):\n",
    "    c.h([0,1])\n",
    "    c.x([0,1])\n",
    "    \n",
    "    c.ccx(0,1,2)\n",
    "\n",
    "    \n",
    "    c.x([0,1])\n",
    "    c.h([0,1])\n",
    "    \n",
    "    c.barrier()\n",
    "    \n",
    "#     x for the ancilla\n",
    "    c.x(2)\n",
    "    \n",
    "#     set ancilla back\n",
    "    c.h(2)\n",
    "    c.x(2)\n",
    "    \n",
    "    c.barrier()\n",
    "    "
   ]
  },
  {
   "cell_type": "code",
   "execution_count": 51,
   "id": "1e083a51-e961-40b8-97e0-47ea7a2ffa0f",
   "metadata": {},
   "outputs": [],
   "source": [
    "# teleportation\n",
    "def teleportation(c):\n",
    "    c.h(1)\n",
    "    c.cx(1,2)\n",
    "    \n",
    "    c.cx(0,1)\n",
    "    c.h(0)\n",
    "    \n",
    "    c.barrier()\n",
    "    \n",
    "    c.measure([0,1],[0,1])\n",
    "    \n",
    "    c.barrier()\n",
    "    \n",
    "    c.cx(1,2)\n",
    "    c.cz(0,2)\n",
    "    \n",
    "    c.barrier()\n",
    "    \n",
    "    c.measure(2,2)\n",
    "    \n",
    "    c.barrier()"
   ]
  },
  {
   "cell_type": "code",
   "execution_count": 52,
   "id": "c3041179-5ee0-467a-8bed-8457e613b4b9",
   "metadata": {},
   "outputs": [
    {
     "data": {
      "text/html": [
       "<pre style=\"word-wrap: normal;white-space: pre;background: #fff0;line-height: 1.1;font-family: &quot;Courier New&quot;,Courier,monospace\">     ┌───┐ ░            ░               ░ ┌───┐┌───┐     ┌───┐┌───┐ ░      »\n",
       "q_0: ┤ H ├─░────────────░───────■───────░─┤ H ├┤ X ├──■──┤ X ├┤ H ├─░──────»\n",
       "     ├───┤ ░            ░ ┌───┐ │ ┌───┐ ░ ├───┤├───┤  │  ├───┤├───┤ ░      »\n",
       "q_1: ┤ H ├─░────────────░─┤ X ├─■─┤ X ├─░─┤ H ├┤ X ├──■──┤ X ├┤ H ├─░──────»\n",
       "     └───┘ ░ ┌───┐┌───┐ ░ └───┘   └───┘ ░ └───┘└───┘┌─┴─┐└───┘└───┘ ░ ┌───┐»\n",
       "q_2: ──────░─┤ X ├┤ H ├─░───────────────░───────────┤ X ├───────────░─┤ X ├»\n",
       "           ░ └───┘└───┘ ░               ░           └───┘           ░ └───┘»\n",
       "c_0: ══════════════════════════════════════════════════════════════════════»\n",
       "                                                                           »\n",
       "c_1: ══════════════════════════════════════════════════════════════════════»\n",
       "                                                                           »\n",
       "c_2: ══════════════════════════════════════════════════════════════════════»\n",
       "                                                                           »\n",
       "«                ░               ░ ┌───┐┌───┐     ┌───┐┌───┐ ░                »\n",
       "«q_0: ───────────░───────■───────░─┤ H ├┤ X ├──■──┤ X ├┤ H ├─░────────────────»\n",
       "«                ░ ┌───┐ │ ┌───┐ ░ ├───┤├───┤  │  ├───┤├───┤ ░                »\n",
       "«q_1: ───────────░─┤ X ├─■─┤ X ├─░─┤ H ├┤ X ├──■──┤ X ├┤ H ├─░────────────────»\n",
       "«     ┌───┐┌───┐ ░ └───┘   └───┘ ░ └───┘└───┘┌─┴─┐└───┘└───┘ ░ ┌───┐┌───┐┌───┐»\n",
       "«q_2: ┤ H ├┤ X ├─░───────────────░───────────┤ X ├───────────░─┤ X ├┤ H ├┤ X ├»\n",
       "«     └───┘└───┘ ░               ░           └───┘           ░ └───┘└───┘└───┘»\n",
       "«c_0: ════════════════════════════════════════════════════════════════════════»\n",
       "«                                                                             »\n",
       "«c_1: ════════════════════════════════════════════════════════════════════════»\n",
       "«                                                                             »\n",
       "«c_2: ════════════════════════════════════════════════════════════════════════»\n",
       "«                                                                             »\n",
       "«      ░ ┌─┐   \n",
       "«q_0: ─░─┤M├───\n",
       "«      ░ └╥┘┌─┐\n",
       "«q_1: ─░──╫─┤M├\n",
       "«      ░  ║ └╥┘\n",
       "«q_2: ─░──╫──╫─\n",
       "«      ░  ║  ║ \n",
       "«c_0: ════╩══╬═\n",
       "«            ║ \n",
       "«c_1: ═══════╩═\n",
       "«              \n",
       "«c_2: ═════════\n",
       "«              </pre>"
      ],
      "text/plain": [
       "     ┌───┐ ░            ░               ░ ┌───┐┌───┐     ┌───┐┌───┐ ░      »\n",
       "q_0: ┤ H ├─░────────────░───────■───────░─┤ H ├┤ X ├──■──┤ X ├┤ H ├─░──────»\n",
       "     ├───┤ ░            ░ ┌───┐ │ ┌───┐ ░ ├───┤├───┤  │  ├───┤├───┤ ░      »\n",
       "q_1: ┤ H ├─░────────────░─┤ X ├─■─┤ X ├─░─┤ H ├┤ X ├──■──┤ X ├┤ H ├─░──────»\n",
       "     └───┘ ░ ┌───┐┌───┐ ░ └───┘   └───┘ ░ └───┘└───┘┌─┴─┐└───┘└───┘ ░ ┌───┐»\n",
       "q_2: ──────░─┤ X ├┤ H ├─░───────────────░───────────┤ X ├───────────░─┤ X ├»\n",
       "           ░ └───┘└───┘ ░               ░           └───┘           ░ └───┘»\n",
       "c_0: ══════════════════════════════════════════════════════════════════════»\n",
       "                                                                           »\n",
       "c_1: ══════════════════════════════════════════════════════════════════════»\n",
       "                                                                           »\n",
       "c_2: ══════════════════════════════════════════════════════════════════════»\n",
       "                                                                           »\n",
       "«                ░               ░ ┌───┐┌───┐     ┌───┐┌───┐ ░                »\n",
       "«q_0: ───────────░───────■───────░─┤ H ├┤ X ├──■──┤ X ├┤ H ├─░────────────────»\n",
       "«                ░ ┌───┐ │ ┌───┐ ░ ├───┤├───┤  │  ├───┤├───┤ ░                »\n",
       "«q_1: ───────────░─┤ X ├─■─┤ X ├─░─┤ H ├┤ X ├──■──┤ X ├┤ H ├─░────────────────»\n",
       "«     ┌───┐┌───┐ ░ └───┘   └───┘ ░ └───┘└───┘┌─┴─┐└───┘└───┘ ░ ┌───┐┌───┐┌───┐»\n",
       "«q_2: ┤ H ├┤ X ├─░───────────────░───────────┤ X ├───────────░─┤ X ├┤ H ├┤ X ├»\n",
       "«     └───┘└───┘ ░               ░           └───┘           ░ └───┘└───┘└───┘»\n",
       "«c_0: ════════════════════════════════════════════════════════════════════════»\n",
       "«                                                                             »\n",
       "«c_1: ════════════════════════════════════════════════════════════════════════»\n",
       "«                                                                             »\n",
       "«c_2: ════════════════════════════════════════════════════════════════════════»\n",
       "«                                                                             »\n",
       "«      ░ ┌─┐   \n",
       "«q_0: ─░─┤M├───\n",
       "«      ░ └╥┘┌─┐\n",
       "«q_1: ─░──╫─┤M├\n",
       "«      ░  ║ └╥┘\n",
       "«q_2: ─░──╫──╫─\n",
       "«      ░  ║  ║ \n",
       "«c_0: ════╩══╬═\n",
       "«            ║ \n",
       "«c_1: ═══════╩═\n",
       "«              \n",
       "«c_2: ═════════\n",
       "«              "
      ]
     },
     "execution_count": 52,
     "metadata": {},
     "output_type": "execute_result"
    }
   ],
   "source": [
    "# START\n",
    "\n",
    "# teleportation(two_moons)\n",
    "\n",
    "two_moons.h([0,1])\n",
    "\n",
    "two_moons.barrier()\n",
    "\n",
    "ancilla(two_moons)\n",
    "\n",
    "phase_kickback(two_moons)\n",
    "\n",
    "inversion(two_moons)\n",
    "\n",
    "phase_kickback(two_moons)\n",
    "\n",
    "inversion(two_moons)\n",
    "\n",
    "# phase_kickback(two_moons)\n",
    "\n",
    "# inversion(two_moons)\n",
    "\n",
    "two_moons.measure([0,1],[0,1])\n",
    "\n",
    "two_moons.draw()"
   ]
  },
  {
   "cell_type": "code",
   "execution_count": 53,
   "id": "44a8701c-3b80-4dbb-a070-653a73be9393",
   "metadata": {},
   "outputs": [],
   "source": [
    "# simulator = Aer.get_backend('qasm_simulator')\n",
    "# result = execute(two_moons, simulator, shots=1000).result()\n",
    "# counts = result.get_counts()\n",
    "# print(counts)"
   ]
  },
  {
   "cell_type": "code",
   "execution_count": 54,
   "id": "0031de01-f8f4-4f46-a3ac-4ec5947c358a",
   "metadata": {},
   "outputs": [],
   "source": [
    "# job = execute(two_moons,Aer.get_backend('qasm_simulator'),shots=10000)\n",
    "# counts8 = job.result().get_counts(two_moons)\n",
    "# # print the reverse of the outcome\n",
    "# for outcome in counts8:\n",
    "#     print(outcome,\"is observed\",counts8[outcome],\"times\")"
   ]
  },
  {
   "cell_type": "code",
   "execution_count": 55,
   "id": "dc5b51f7-5a29-4b78-ab43-c4dbb6ac39cf",
   "metadata": {},
   "outputs": [],
   "source": [
    "# grover_holder = QuantumCircuit(1,1)\n",
    "\n",
    "# teleportation(two_moons)\n",
    "# two_moons.draw()"
   ]
  },
  {
   "cell_type": "code",
   "execution_count": 56,
   "id": "fb07758a-0c4e-4649-a192-9d1182b1ecea",
   "metadata": {},
   "outputs": [
    {
     "name": "stdout",
     "output_type": "stream",
     "text": [
      "001 is observed 6364 times\n",
      "010 is observed 1185 times\n",
      "011 is observed 1296 times\n",
      "000 is observed 1155 times\n"
     ]
    }
   ],
   "source": [
    "job = execute(two_moons,Aer.get_backend('qasm_simulator'),shots=10000)\n",
    "counts8 = job.result().get_counts(two_moons)\n",
    "# print the reverse of the outcome\n",
    "for outcome in counts8:\n",
    "    print(outcome,\"is observed\",counts8[outcome],\"times\")"
   ]
  },
  {
   "cell_type": "code",
   "execution_count": null,
   "id": "b012e27c-dc7c-49a7-807b-3f68b4bc9a22",
   "metadata": {},
   "outputs": [],
   "source": []
  },
  {
   "cell_type": "code",
   "execution_count": null,
   "id": "67bb1230-60e8-41e8-86d0-af5f6c9200b3",
   "metadata": {},
   "outputs": [],
   "source": []
  }
 ],
 "metadata": {
  "kernelspec": {
   "display_name": "Python 3 (ipykernel)",
   "language": "python",
   "name": "python3"
  },
  "language_info": {
   "codemirror_mode": {
    "name": "ipython",
    "version": 3
   },
   "file_extension": ".py",
   "mimetype": "text/x-python",
   "name": "python",
   "nbconvert_exporter": "python",
   "pygments_lexer": "ipython3",
   "version": "3.10.6"
  }
 },
 "nbformat": 4,
 "nbformat_minor": 5
}
