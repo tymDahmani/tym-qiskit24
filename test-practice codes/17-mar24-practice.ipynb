{
 "cells": [
  {
   "cell_type": "code",
   "execution_count": 2,
   "id": "bb02eb60-3e6e-495c-befa-0d4d7e74d5c5",
   "metadata": {},
   "outputs": [
    {
     "name": "stdout",
     "output_type": "stream",
     "text": [
      "{'11 00': 508, '00 00': 516}\n"
     ]
    }
   ],
   "source": [
    "from qiskit import *\n",
    "\n",
    "# circuit\n",
    "lovesick = QuantumCircuit(2,2)\n",
    "\n",
    "# gates applied\n",
    "lovesick.h(0)\n",
    "lovesick.cx(0,1)\n",
    "\n",
    "# measurement\n",
    "lovesick.measure_all()\n",
    "\n",
    "# simulating / printing out the results\n",
    "sim = Aer.get_backend('qasm_simulator')\n",
    "result = execute(lovesick, backend=sim, counts=10).result()\n",
    "counts = result.get_counts(lovesick)\n",
    "print(counts)"
   ]
  },
  {
   "cell_type": "code",
   "execution_count": null,
   "id": "3a146e67-adfc-4949-ac7d-577a2b14de82",
   "metadata": {},
   "outputs": [],
   "source": [
    "# practising back teleportation\n"
   ]
  }
 ],
 "metadata": {
  "kernelspec": {
   "display_name": "Python 3 (ipykernel)",
   "language": "python",
   "name": "python3"
  },
  "language_info": {
   "codemirror_mode": {
    "name": "ipython",
    "version": 3
   },
   "file_extension": ".py",
   "mimetype": "text/x-python",
   "name": "python",
   "nbconvert_exporter": "python",
   "pygments_lexer": "ipython3",
   "version": "3.10.6"
  }
 },
 "nbformat": 4,
 "nbformat_minor": 5
}
