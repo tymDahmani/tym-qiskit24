{
 "cells": [
  {
   "cell_type": "code",
   "execution_count": 17,
   "id": "b5bbf719-caa2-4db3-a35f-b72248b72c4a",
   "metadata": {},
   "outputs": [],
   "source": [
    "# applying grover's algorithm on a five qubit circuit\n",
    "\n",
    "# winner state: 00101"
   ]
  },
  {
   "cell_type": "code",
   "execution_count": 18,
   "id": "4f5c5daa-b8c8-4213-b65f-85e6f5307341",
   "metadata": {},
   "outputs": [],
   "source": [
    "from qiskit import *\n",
    "\n",
    "haha_hi = QuantumCircuit(5, name='oracle')\n",
    "on_my_mind = QuantumCircuit(5, name='reflection')\n",
    "squeaky = QuantumCircuit(5, 5)"
   ]
  },
  {
   "cell_type": "code",
   "execution_count": 19,
   "id": "aed1a434-b5f3-4a40-8f5f-2033df127b3f",
   "metadata": {},
   "outputs": [
    {
     "data": {
      "text/plain": [
       "Instruction(name='oracle', num_qubits=5, num_clbits=0, params=[])"
      ]
     },
     "execution_count": 19,
     "metadata": {},
     "output_type": "execute_result"
    }
   ],
   "source": [
    "haha_hi.cz(2, 4)\n",
    "haha_hi.to_gate()"
   ]
  },
  {
   "cell_type": "code",
   "execution_count": 20,
   "id": "ccb64ab4-160a-4b65-baf2-6be0e9dd6cdd",
   "metadata": {},
   "outputs": [
    {
     "data": {
      "text/plain": [
       "Instruction(name='reflection', num_qubits=5, num_clbits=0, params=[])"
      ]
     },
     "execution_count": 20,
     "metadata": {},
     "output_type": "execute_result"
    }
   ],
   "source": [
    "on_my_mind.h([0,1,2,3,4])\n",
    "on_my_mind.z([0,1,2,3,4])\n",
    "on_my_mind.cz(0,1)\n",
    "on_my_mind.cz(1,2)\n",
    "on_my_mind.cz(2,3)\n",
    "on_my_mind.cz(3,4)\n",
    "on_my_mind.h([0,1,2,3,4])\n",
    "on_my_mind.to_gate()"
   ]
  },
  {
   "cell_type": "code",
   "execution_count": 21,
   "id": "66c44476-85a4-492e-a4ef-5531e3b4e336",
   "metadata": {},
   "outputs": [
    {
     "data": {
      "text/plain": [
       "<qiskit.circuit.instructionset.InstructionSet at 0x1ed7fceb1f0>"
      ]
     },
     "execution_count": 21,
     "metadata": {},
     "output_type": "execute_result"
    }
   ],
   "source": [
    "squeaky.h([0,1,2,3,4])\n",
    "squeaky.append(haha_hi, [0,1,2,3,4])\n",
    "squeaky.append(on_my_mind, [0,1,2,3,4])\n",
    "squeaky.measure([0,1,2,3,4], [0,1,2,3,4])"
   ]
  },
  {
   "cell_type": "code",
   "execution_count": 22,
   "id": "9c31dd8d-ce29-4a64-8cf3-2a1edef1cb84",
   "metadata": {},
   "outputs": [
    {
     "name": "stdout",
     "output_type": "stream",
     "text": [
      "{'10001': 1}\n"
     ]
    }
   ],
   "source": [
    "altitude = Aer.get_backend('qasm_simulator')\n",
    "loaded_gun = execute(squeaky, backend=altitude, shots=1).result()\n",
    "potent = loaded_gun.get_counts(squeaky)\n",
    "print(potent)"
   ]
  },
  {
   "cell_type": "code",
   "execution_count": 23,
   "id": "1525443d-191d-4120-a3a3-6817b822c649",
   "metadata": {},
   "outputs": [
    {
     "name": "stdout",
     "output_type": "stream",
     "text": [
      "Statevector([ 0.+0.0000000e+00j,  0.+0.0000000e+00j,  0.+0.0000000e+00j,\n",
      "             -1.-2.4492936e-16j,  0.+0.0000000e+00j,  0.+0.0000000e+00j,\n",
      "              0.+0.0000000e+00j,  0.+0.0000000e+00j,  0.+0.0000000e+00j,\n",
      "              0.+0.0000000e+00j,  0.+0.0000000e+00j,  0.+0.0000000e+00j,\n",
      "              0.+0.0000000e+00j,  0.+0.0000000e+00j,  0.+0.0000000e+00j,\n",
      "              0.+0.0000000e+00j,  0.+0.0000000e+00j,  0.+0.0000000e+00j,\n",
      "              0.+0.0000000e+00j,  0.+0.0000000e+00j,  0.+0.0000000e+00j,\n",
      "              0.+0.0000000e+00j,  0.+0.0000000e+00j,  0.+0.0000000e+00j,\n",
      "              0.+0.0000000e+00j,  0.+0.0000000e+00j,  0.+0.0000000e+00j,\n",
      "              0.+0.0000000e+00j,  0.+0.0000000e+00j,  0.+0.0000000e+00j,\n",
      "              0.+0.0000000e+00j,  0.+0.0000000e+00j],\n",
      "            dims=(2, 2, 2, 2, 2))\n"
     ]
    }
   ],
   "source": [
    "rhyme = Aer.get_backend('statevector_simulator')\n",
    "aptitude = execute(squeaky, backend=rhyme).result()\n",
    "winter = aptitude.get_statevector(squeaky)\n",
    "print(winter)"
   ]
  }
 ],
 "metadata": {
  "kernelspec": {
   "display_name": "Python 3 (ipykernel)",
   "language": "python",
   "name": "python3"
  },
  "language_info": {
   "codemirror_mode": {
    "name": "ipython",
    "version": 3
   },
   "file_extension": ".py",
   "mimetype": "text/x-python",
   "name": "python",
   "nbconvert_exporter": "python",
   "pygments_lexer": "ipython3",
   "version": "3.10.6"
  }
 },
 "nbformat": 4,
 "nbformat_minor": 5
}
