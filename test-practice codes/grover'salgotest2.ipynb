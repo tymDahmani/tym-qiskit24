{
 "cells": [
  {
   "cell_type": "code",
   "execution_count": 41,
   "id": "4e487336-c97b-406a-af2a-af40e5e00585",
   "metadata": {},
   "outputs": [],
   "source": [
    "# successful code!!!!!!!!!! we did it montaha! hopefully wont forget those stuff months later... ;-;\n",
    "# - 22.9 me - u stupid idiot, it doesnt work the right way yet. and btw Migraine by bwu droped today. well this is real happiness. also, ull become fucking 16\n",
    "# in 12 days and ur still a fucking stupid idiot kid, how come u wanna be someone so big in the future and ur still like this u....!! STUPID IDIOT.... uve\n",
    "# never been good enough at any fucking thing. dont wonder why im wrting here cuz im so fucking helpless at this code... ik ull read this one day later, when u\n",
    "# will be happier probably. when ull regain ur temporarly happy energy. how sad that i only talk to u idiot, but i only have u... FUCK, just focus on the fucking code!!\n",
    "# shit, for somereason after i wrote this shit and ran the code it gave me the right winning state. hhh shit\n",
    "\n",
    "# winner state = 10\n",
    "\n",
    "\n",
    "from qiskit import *\n",
    "from qiskit.tools.visualization import *\n",
    "\n",
    "foliage = QuantumCircuit(2, name = 'oracle')\n",
    "blurry = QuantumCircuit(2, name = 'reflection')\n",
    "fiction = QuantumCircuit(2, 2)"
   ]
  },
  {
   "cell_type": "code",
   "execution_count": 42,
   "id": "5db6875d-44a7-4254-a1f5-03b25d04c3a3",
   "metadata": {},
   "outputs": [
    {
     "data": {
      "text/html": [
       "<pre style=\"word-wrap: normal;white-space: pre;background: #fff0;line-height: 1.1;font-family: &quot;Courier New&quot;,Courier,monospace\">     ┌───┐\n",
       "q_0: ┤ Z ├\n",
       "     └───┘\n",
       "q_1: ─────\n",
       "          </pre>"
      ],
      "text/plain": [
       "     ┌───┐\n",
       "q_0: ┤ Z ├\n",
       "     └───┘\n",
       "q_1: ─────\n",
       "          "
      ]
     },
     "execution_count": 42,
     "metadata": {},
     "output_type": "execute_result"
    }
   ],
   "source": [
    "foliage.z(0)\n",
    "foliage.to_gate()\n",
    "foliage.draw()"
   ]
  },
  {
   "cell_type": "code",
   "execution_count": 43,
   "id": "0491f82f-80ef-4249-b965-cd35bb00c2d2",
   "metadata": {},
   "outputs": [
    {
     "data": {
      "text/plain": [
       "Instruction(name='reflection', num_qubits=2, num_clbits=0, params=[])"
      ]
     },
     "execution_count": 43,
     "metadata": {},
     "output_type": "execute_result"
    }
   ],
   "source": [
    "blurry.h([0, 1])\n",
    "blurry.z([0, 1])\n",
    "blurry.cz(0, 1)\n",
    "blurry.h([0, 1])\n",
    "blurry.to_gate()"
   ]
  },
  {
   "cell_type": "code",
   "execution_count": 44,
   "id": "899e12c2-9583-4756-8aa1-9905483ffab0",
   "metadata": {},
   "outputs": [
    {
     "name": "stdout",
     "output_type": "stream",
     "text": [
      "Statevector([-0.5+4.35788200e-33j,  0.5-8.71576399e-33j,\n",
      "              0.5+4.35788200e-33j,  0.5+0.00000000e+00j],\n",
      "            dims=(2, 2))\n"
     ]
    }
   ],
   "source": [
    "# sim = Aer.get_backend('statevector_simulator')\n",
    "# res = execute(blurry, backend = sim).result()\n",
    "# sv = res.get_statevector(blurry).result()\n",
    "# print(sv)\n",
    "\n",
    "idc = Aer.get_backend('statevector_simulator')\n",
    "resul = execute(blurry, backend=idc).result()\n",
    "idk = resul.get_statevector(blurry)\n",
    "print(idk)"
   ]
  },
  {
   "cell_type": "code",
   "execution_count": 45,
   "id": "dea3553c-baf8-4a80-8ac6-0a60c32f780e",
   "metadata": {},
   "outputs": [
    {
     "data": {
      "text/plain": [
       "<qiskit.circuit.instructionset.InstructionSet at 0x23dbe007580>"
      ]
     },
     "execution_count": 45,
     "metadata": {},
     "output_type": "execute_result"
    }
   ],
   "source": [
    "fiction.h([0, 1])\n",
    "fiction.append(foliage, [0,1])\n",
    "fiction.append(blurry, [0,1])\n",
    "fiction.measure([0, 1], [0, 1])"
   ]
  },
  {
   "cell_type": "code",
   "execution_count": 46,
   "id": "25318ffc-1832-4389-a218-4285c33e9eda",
   "metadata": {},
   "outputs": [
    {
     "data": {
      "text/html": [
       "<pre style=\"word-wrap: normal;white-space: pre;background: #fff0;line-height: 1.1;font-family: &quot;Courier New&quot;,Courier,monospace\">     ┌───┐┌─────────┐┌─────────────┐┌─┐   \n",
       "q_0: ┤ H ├┤0        ├┤0            ├┤M├───\n",
       "     ├───┤│  oracle ││  reflection │└╥┘┌─┐\n",
       "q_1: ┤ H ├┤1        ├┤1            ├─╫─┤M├\n",
       "     └───┘└─────────┘└─────────────┘ ║ └╥┘\n",
       "c_0: ════════════════════════════════╩══╬═\n",
       "                                        ║ \n",
       "c_1: ═══════════════════════════════════╩═\n",
       "                                          </pre>"
      ],
      "text/plain": [
       "     ┌───┐┌─────────┐┌─────────────┐┌─┐   \n",
       "q_0: ┤ H ├┤0        ├┤0            ├┤M├───\n",
       "     ├───┤│  oracle ││  reflection │└╥┘┌─┐\n",
       "q_1: ┤ H ├┤1        ├┤1            ├─╫─┤M├\n",
       "     └───┘└─────────┘└─────────────┘ ║ └╥┘\n",
       "c_0: ════════════════════════════════╩══╬═\n",
       "                                        ║ \n",
       "c_1: ═══════════════════════════════════╩═\n",
       "                                          "
      ]
     },
     "execution_count": 46,
     "metadata": {},
     "output_type": "execute_result"
    }
   ],
   "source": [
    "fiction.draw()"
   ]
  },
  {
   "cell_type": "code",
   "execution_count": 47,
   "id": "9f02d0ec-b2bc-4526-9b95-53ded901c98b",
   "metadata": {},
   "outputs": [
    {
     "name": "stdout",
     "output_type": "stream",
     "text": [
      "{'10': 1}\n"
     ]
    }
   ],
   "source": [
    "simulator = Aer.get_backend('qasm_simulator')\n",
    "result = execute(fiction, backend=simulator, shots=1).result()\n",
    "diminishing = result.get_counts(fiction)\n",
    "print(diminishing)"
   ]
  },
  {
   "cell_type": "code",
   "execution_count": 48,
   "id": "26587387-1565-4b68-83e6-e20ae4afed4c",
   "metadata": {},
   "outputs": [
    {
     "name": "stdout",
     "output_type": "stream",
     "text": [
      "Statevector([-0.+0.j,  0.+0.j, -1.+0.j,  0.+0.j],\n",
      "            dims=(2, 2))\n"
     ]
    }
   ],
   "source": [
    "from qiskit.visualization import plot_state_qsphere\n",
    "from qiskit.visualization import plot_state_hinton\n",
    "from qiskit.visualization import plot_state_city\n",
    "\n",
    "simulator2 = Aer.get_backend('statevector_simulator')\n",
    "result2 = execute(fiction, backend = simulator2, shots=100).result()\n",
    "sv = result2.get_statevector(fiction)\n",
    "\n",
    "print(sv)"
   ]
  },
  {
   "cell_type": "code",
   "execution_count": null,
   "id": "04dc48cc-e1d0-4c88-992e-9f2a8e16c268",
   "metadata": {},
   "outputs": [],
   "source": []
  }
 ],
 "metadata": {
  "kernelspec": {
   "display_name": "Python 3 (ipykernel)",
   "language": "python",
   "name": "python3"
  },
  "language_info": {
   "codemirror_mode": {
    "name": "ipython",
    "version": 3
   },
   "file_extension": ".py",
   "mimetype": "text/x-python",
   "name": "python",
   "nbconvert_exporter": "python",
   "pygments_lexer": "ipython3",
   "version": "3.10.6"
  }
 },
 "nbformat": 4,
 "nbformat_minor": 5
}
