{
 "cells": [
  {
   "cell_type": "code",
   "execution_count": 2,
   "id": "fc45c1e1-c272-4138-8392-4bd0e22cb11f",
   "metadata": {},
   "outputs": [],
   "source": [
    "from qiskit import *"
   ]
  },
  {
   "cell_type": "code",
   "execution_count": 3,
   "id": "78abc0b7-ecd4-4ee8-934f-8bb9c05a6c62",
   "metadata": {},
   "outputs": [
    {
     "data": {
      "text/html": [
       "<pre style=\"word-wrap: normal;white-space: pre;background: #fff0;line-height: 1.1;font-family: &quot;Courier New&quot;,Courier,monospace\">     ┌───┐ ░ \n",
       "q_0: ┤ X ├─░─\n",
       "     ├───┤ ░ \n",
       "q_1: ┤ X ├─░─\n",
       "     └───┘ ░ \n",
       "q_2: ──────░─\n",
       "           ░ \n",
       "q_3: ──────░─\n",
       "           ░ \n",
       "c_0: ════════\n",
       "             \n",
       "c_1: ════════\n",
       "             \n",
       "c_2: ════════\n",
       "             \n",
       "c_3: ════════\n",
       "             </pre>"
      ],
      "text/plain": [
       "     ┌───┐ ░ \n",
       "q_0: ┤ X ├─░─\n",
       "     ├───┤ ░ \n",
       "q_1: ┤ X ├─░─\n",
       "     └───┘ ░ \n",
       "q_2: ──────░─\n",
       "           ░ \n",
       "q_3: ──────░─\n",
       "           ░ \n",
       "c_0: ════════\n",
       "             \n",
       "c_1: ════════\n",
       "             \n",
       "c_2: ════════\n",
       "             \n",
       "c_3: ════════\n",
       "             "
      ]
     },
     "execution_count": 3,
     "metadata": {},
     "output_type": "execute_result"
    }
   ],
   "source": [
    "bwu = QuantumCircuit(4, 4)\n",
    "bwu.x([0, 1])\n",
    "bwu.barrier()\n",
    "bwu.draw()"
   ]
  },
  {
   "cell_type": "code",
   "execution_count": 4,
   "id": "a44a5297-3ca2-4068-bb69-f6a35acb75e2",
   "metadata": {},
   "outputs": [
    {
     "data": {
      "text/html": [
       "<pre style=\"word-wrap: normal;white-space: pre;background: #fff0;line-height: 1.1;font-family: &quot;Courier New&quot;,Courier,monospace\">     ┌───┐ ░      ┌───┐           ░ \n",
       "q_0: ┤ X ├─░───■──┤ H ├───────────░─\n",
       "     ├───┤ ░ ┌─┴─┐└───┘     ┌───┐ ░ \n",
       "q_1: ┤ X ├─░─┤ X ├───────■──┤ H ├─░─\n",
       "     └───┘ ░ ├───┤     ┌─┴─┐└───┘ ░ \n",
       "q_2: ──────░─┤ H ├──■──┤ X ├──────░─\n",
       "           ░ └───┘┌─┴─┐└───┘      ░ \n",
       "q_3: ──────░──────┤ X ├───────────░─\n",
       "           ░      └───┘           ░ \n",
       "c_0: ═══════════════════════════════\n",
       "                                    \n",
       "c_1: ═══════════════════════════════\n",
       "                                    \n",
       "c_2: ═══════════════════════════════\n",
       "                                    \n",
       "c_3: ═══════════════════════════════\n",
       "                                    </pre>"
      ],
      "text/plain": [
       "     ┌───┐ ░      ┌───┐           ░ \n",
       "q_0: ┤ X ├─░───■──┤ H ├───────────░─\n",
       "     ├───┤ ░ ┌─┴─┐└───┘     ┌───┐ ░ \n",
       "q_1: ┤ X ├─░─┤ X ├───────■──┤ H ├─░─\n",
       "     └───┘ ░ ├───┤     ┌─┴─┐└───┘ ░ \n",
       "q_2: ──────░─┤ H ├──■──┤ X ├──────░─\n",
       "           ░ └───┘┌─┴─┐└───┘      ░ \n",
       "q_3: ──────░──────┤ X ├───────────░─\n",
       "           ░      └───┘           ░ \n",
       "c_0: ═══════════════════════════════\n",
       "                                    \n",
       "c_1: ═══════════════════════════════\n",
       "                                    \n",
       "c_2: ═══════════════════════════════\n",
       "                                    \n",
       "c_3: ═══════════════════════════════\n",
       "                                    "
      ]
     },
     "execution_count": 4,
     "metadata": {},
     "output_type": "execute_result"
    }
   ],
   "source": [
    "bwu.h(2)\n",
    "bwu.cx(2, 3)\n",
    "bwu.cx(0, 1)\n",
    "bwu.cx(1, 2)\n",
    "bwu.h([0, 1])\n",
    "bwu.barrier()\n",
    "bwu.draw()"
   ]
  },
  {
   "cell_type": "code",
   "execution_count": 5,
   "id": "759ba08e-68e9-45b3-83d6-3558b7c2b642",
   "metadata": {},
   "outputs": [
    {
     "data": {
      "text/html": [
       "<pre style=\"word-wrap: normal;white-space: pre;background: #fff0;line-height: 1.1;font-family: &quot;Courier New&quot;,Courier,monospace\">     ┌───┐ ░      ┌───┐           ░ ┌─┐       ░ \n",
       "q_0: ┤ X ├─░───■──┤ H ├───────────░─┤M├───────░─\n",
       "     ├───┤ ░ ┌─┴─┐└───┘     ┌───┐ ░ └╥┘┌─┐    ░ \n",
       "q_1: ┤ X ├─░─┤ X ├───────■──┤ H ├─░──╫─┤M├────░─\n",
       "     └───┘ ░ ├───┤     ┌─┴─┐└───┘ ░  ║ └╥┘┌─┐ ░ \n",
       "q_2: ──────░─┤ H ├──■──┤ X ├──────░──╫──╫─┤M├─░─\n",
       "           ░ └───┘┌─┴─┐└───┘      ░  ║  ║ └╥┘ ░ \n",
       "q_3: ──────░──────┤ X ├───────────░──╫──╫──╫──░─\n",
       "           ░      └───┘           ░  ║  ║  ║  ░ \n",
       "c_0: ════════════════════════════════╩══╬══╬════\n",
       "                                        ║  ║    \n",
       "c_1: ═══════════════════════════════════╩══╬════\n",
       "                                           ║    \n",
       "c_2: ══════════════════════════════════════╩════\n",
       "                                                \n",
       "c_3: ═══════════════════════════════════════════\n",
       "                                                </pre>"
      ],
      "text/plain": [
       "     ┌───┐ ░      ┌───┐           ░ ┌─┐       ░ \n",
       "q_0: ┤ X ├─░───■──┤ H ├───────────░─┤M├───────░─\n",
       "     ├───┤ ░ ┌─┴─┐└───┘     ┌───┐ ░ └╥┘┌─┐    ░ \n",
       "q_1: ┤ X ├─░─┤ X ├───────■──┤ H ├─░──╫─┤M├────░─\n",
       "     └───┘ ░ ├───┤     ┌─┴─┐└───┘ ░  ║ └╥┘┌─┐ ░ \n",
       "q_2: ──────░─┤ H ├──■──┤ X ├──────░──╫──╫─┤M├─░─\n",
       "           ░ └───┘┌─┴─┐└───┘      ░  ║  ║ └╥┘ ░ \n",
       "q_3: ──────░──────┤ X ├───────────░──╫──╫──╫──░─\n",
       "           ░      └───┘           ░  ║  ║  ║  ░ \n",
       "c_0: ════════════════════════════════╩══╬══╬════\n",
       "                                        ║  ║    \n",
       "c_1: ═══════════════════════════════════╩══╬════\n",
       "                                           ║    \n",
       "c_2: ══════════════════════════════════════╩════\n",
       "                                                \n",
       "c_3: ═══════════════════════════════════════════\n",
       "                                                "
      ]
     },
     "execution_count": 5,
     "metadata": {},
     "output_type": "execute_result"
    }
   ],
   "source": [
    "bwu.measure([0, 1, 2], [0, 1, 2])\n",
    "bwu.barrier()\n",
    "bwu.draw()"
   ]
  },
  {
   "cell_type": "code",
   "execution_count": 6,
   "id": "f4ec6da4-32c2-4118-903a-c77c7c735fd1",
   "metadata": {},
   "outputs": [
    {
     "data": {
      "text/html": [
       "<pre style=\"word-wrap: normal;white-space: pre;background: #fff0;line-height: 1.1;font-family: &quot;Courier New&quot;,Courier,monospace\">     ┌───┐ ░      ┌───┐           ░ ┌─┐       ░          ░ \n",
       "q_0: ┤ X ├─░───■──┤ H ├───────────░─┤M├───────░───────■──░─\n",
       "     ├───┤ ░ ┌─┴─┐└───┘     ┌───┐ ░ └╥┘┌─┐    ░       │  ░ \n",
       "q_1: ┤ X ├─░─┤ X ├───────■──┤ H ├─░──╫─┤M├────░───────■──░─\n",
       "     └───┘ ░ ├───┤     ┌─┴─┐└───┘ ░  ║ └╥┘┌─┐ ░       │  ░ \n",
       "q_2: ──────░─┤ H ├──■──┤ X ├──────░──╫──╫─┤M├─░───■───┼──░─\n",
       "           ░ └───┘┌─┴─┐└───┘      ░  ║  ║ └╥┘ ░ ┌─┴─┐ │  ░ \n",
       "q_3: ──────░──────┤ X ├───────────░──╫──╫──╫──░─┤ X ├─■──░─\n",
       "           ░      └───┘           ░  ║  ║  ║  ░ └───┘    ░ \n",
       "c_0: ════════════════════════════════╩══╬══╬═══════════════\n",
       "                                        ║  ║               \n",
       "c_1: ═══════════════════════════════════╩══╬═══════════════\n",
       "                                           ║               \n",
       "c_2: ══════════════════════════════════════╩═══════════════\n",
       "                                                           \n",
       "c_3: ══════════════════════════════════════════════════════\n",
       "                                                           </pre>"
      ],
      "text/plain": [
       "     ┌───┐ ░      ┌───┐           ░ ┌─┐       ░          ░ \n",
       "q_0: ┤ X ├─░───■──┤ H ├───────────░─┤M├───────░───────■──░─\n",
       "     ├───┤ ░ ┌─┴─┐└───┘     ┌───┐ ░ └╥┘┌─┐    ░       │  ░ \n",
       "q_1: ┤ X ├─░─┤ X ├───────■──┤ H ├─░──╫─┤M├────░───────■──░─\n",
       "     └───┘ ░ ├───┤     ┌─┴─┐└───┘ ░  ║ └╥┘┌─┐ ░       │  ░ \n",
       "q_2: ──────░─┤ H ├──■──┤ X ├──────░──╫──╫─┤M├─░───■───┼──░─\n",
       "           ░ └───┘┌─┴─┐└───┘      ░  ║  ║ └╥┘ ░ ┌─┴─┐ │  ░ \n",
       "q_3: ──────░──────┤ X ├───────────░──╫──╫──╫──░─┤ X ├─■──░─\n",
       "           ░      └───┘           ░  ║  ║  ║  ░ └───┘    ░ \n",
       "c_0: ════════════════════════════════╩══╬══╬═══════════════\n",
       "                                        ║  ║               \n",
       "c_1: ═══════════════════════════════════╩══╬═══════════════\n",
       "                                           ║               \n",
       "c_2: ══════════════════════════════════════╩═══════════════\n",
       "                                                           \n",
       "c_3: ══════════════════════════════════════════════════════\n",
       "                                                           "
      ]
     },
     "execution_count": 6,
     "metadata": {},
     "output_type": "execute_result"
    }
   ],
   "source": [
    "bwu.cx(2, 3)\n",
    "bwu.ccz(0, 1, 3)\n",
    "bwu.barrier()\n",
    "bwu.draw()"
   ]
  },
  {
   "cell_type": "code",
   "execution_count": 7,
   "id": "38beaca5-47e2-4d5d-8810-620ee7c01385",
   "metadata": {},
   "outputs": [
    {
     "data": {
      "text/html": [
       "<pre style=\"word-wrap: normal;white-space: pre;background: #fff0;line-height: 1.1;font-family: &quot;Courier New&quot;,Courier,monospace\">     ┌───┐ ░      ┌───┐           ░ ┌─┐       ░          ░    \n",
       "q_0: ┤ X ├─░───■──┤ H ├───────────░─┤M├───────░───────■──░────\n",
       "     ├───┤ ░ ┌─┴─┐└───┘     ┌───┐ ░ └╥┘┌─┐    ░       │  ░    \n",
       "q_1: ┤ X ├─░─┤ X ├───────■──┤ H ├─░──╫─┤M├────░───────■──░────\n",
       "     └───┘ ░ ├───┤     ┌─┴─┐└───┘ ░  ║ └╥┘┌─┐ ░       │  ░    \n",
       "q_2: ──────░─┤ H ├──■──┤ X ├──────░──╫──╫─┤M├─░───■───┼──░────\n",
       "           ░ └───┘┌─┴─┐└───┘      ░  ║  ║ └╥┘ ░ ┌─┴─┐ │  ░ ┌─┐\n",
       "q_3: ──────░──────┤ X ├───────────░──╫──╫──╫──░─┤ X ├─■──░─┤M├\n",
       "           ░      └───┘           ░  ║  ║  ║  ░ └───┘    ░ └╥┘\n",
       "c_0: ════════════════════════════════╩══╬══╬════════════════╬═\n",
       "                                        ║  ║                ║ \n",
       "c_1: ═══════════════════════════════════╩══╬════════════════╬═\n",
       "                                           ║                ║ \n",
       "c_2: ══════════════════════════════════════╩════════════════╬═\n",
       "                                                            ║ \n",
       "c_3: ═══════════════════════════════════════════════════════╩═\n",
       "                                                              </pre>"
      ],
      "text/plain": [
       "     ┌───┐ ░      ┌───┐           ░ ┌─┐       ░          ░    \n",
       "q_0: ┤ X ├─░───■──┤ H ├───────────░─┤M├───────░───────■──░────\n",
       "     ├───┤ ░ ┌─┴─┐└───┘     ┌───┐ ░ └╥┘┌─┐    ░       │  ░    \n",
       "q_1: ┤ X ├─░─┤ X ├───────■──┤ H ├─░──╫─┤M├────░───────■──░────\n",
       "     └───┘ ░ ├───┤     ┌─┴─┐└───┘ ░  ║ └╥┘┌─┐ ░       │  ░    \n",
       "q_2: ──────░─┤ H ├──■──┤ X ├──────░──╫──╫─┤M├─░───■───┼──░────\n",
       "           ░ └───┘┌─┴─┐└───┘      ░  ║  ║ └╥┘ ░ ┌─┴─┐ │  ░ ┌─┐\n",
       "q_3: ──────░──────┤ X ├───────────░──╫──╫──╫──░─┤ X ├─■──░─┤M├\n",
       "           ░      └───┘           ░  ║  ║  ║  ░ └───┘    ░ └╥┘\n",
       "c_0: ════════════════════════════════╩══╬══╬════════════════╬═\n",
       "                                        ║  ║                ║ \n",
       "c_1: ═══════════════════════════════════╩══╬════════════════╬═\n",
       "                                           ║                ║ \n",
       "c_2: ══════════════════════════════════════╩════════════════╬═\n",
       "                                                            ║ \n",
       "c_3: ═══════════════════════════════════════════════════════╩═\n",
       "                                                              "
      ]
     },
     "execution_count": 7,
     "metadata": {},
     "output_type": "execute_result"
    }
   ],
   "source": [
    "bwu.measure(3, 3)\n",
    "bwu.draw()"
   ]
  },
  {
   "cell_type": "code",
   "execution_count": 8,
   "id": "53844ae8-ccac-4468-85ee-72ee79bf5dd2",
   "metadata": {},
   "outputs": [
    {
     "data": {
      "image/png": "[encoded data removed]",
      "text/plain": [
       "<Figure size 700x500 with 1 Axes>"
      ]
     },
     "execution_count": 8,
     "metadata": {},
     "output_type": "execute_result"
    }
   ],
   "source": [
    "from qiskit.tools.visualization import *\n",
    "simulator = Aer.get_backend('qasm_simulator')\n",
    "result = execute(bwu, backend = simulator).result()\n",
    "count = result.get_counts(bwu)\n",
    "# print(count)\n",
    "plot_histogram(count)"
   ]
  },
  {
   "cell_type": "code",
   "execution_count": null,
   "id": "e5c023c2-991e-4652-b516-aec0ecec6053",
   "metadata": {},
   "outputs": [],
   "source": []
  }
 ],
 "metadata": {
  "kernelspec": {
   "display_name": "Python 3 (ipykernel)",
   "language": "python",
   "name": "python3"
  },
  "language_info": {
   "codemirror_mode": {
    "name": "ipython",
    "version": 3
   },
   "file_extension": ".py",
   "mimetype": "text/x-python",
   "name": "python",
   "nbconvert_exporter": "python",
   "pygments_lexer": "ipython3",
   "version": "3.10.6"
  }
 },
 "nbformat": 4,
 "nbformat_minor": 5
}
