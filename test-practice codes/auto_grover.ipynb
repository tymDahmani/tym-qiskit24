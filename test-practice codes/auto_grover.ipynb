{
 "cells": [
  {
   "cell_type": "code",
   "execution_count": 16,
   "id": "ae972f6b-0b09-41b9-b144-843a00fe1553",
   "metadata": {},
   "outputs": [],
   "source": [
    "from qiskit import *\n",
    "from qiskit.tools.visualization import *\n",
    "from qiskit.visualization import *\n",
    "\n",
    "deprived = QuantumCircuit(4)\n",
    "creg = ClassicalRegister(4, name='vip')\n",
    "deprived.add_register(creg)"
   ]
  },
  {
   "cell_type": "code",
   "execution_count": 17,
   "id": "da2213f1-3a63-4e42-ba08-efbf436e04cd",
   "metadata": {},
   "outputs": [
    {
     "data": {
      "text/html": [
       "<pre style=\"word-wrap: normal;white-space: pre;background: #fff0;line-height: 1.1;font-family: &quot;Courier New&quot;,Courier,monospace\">       ┌───┐           ░ ┌─┐         \n",
       "  q_0: ┤ H ├──■────────░─┤M├─────────\n",
       "       ├───┤  │        ░ └╥┘┌─┐      \n",
       "  q_1: ┤ H ├──┼────■───░──╫─┤M├──────\n",
       "       ├───┤┌─┴─┐  │   ░  ║ └╥┘┌─┐   \n",
       "  q_2: ┤ H ├┤ X ├──┼───░──╫──╫─┤M├───\n",
       "       ├───┤└───┘┌─┴─┐ ░  ║  ║ └╥┘┌─┐\n",
       "  q_3: ┤ H ├─────┤ X ├─░──╫──╫──╫─┤M├\n",
       "       └───┘     └───┘ ░  ║  ║  ║ └╥┘\n",
       "vip_0: ═══════════════════╩══╬══╬══╬═\n",
       "                             ║  ║  ║ \n",
       "vip_1: ══════════════════════╩══╬══╬═\n",
       "                                ║  ║ \n",
       "vip_2: ═════════════════════════╩══╬═\n",
       "                                   ║ \n",
       "vip_3: ════════════════════════════╩═\n",
       "                                     </pre>"
      ],
      "text/plain": [
       "       ┌───┐           ░ ┌─┐         \n",
       "  q_0: ┤ H ├──■────────░─┤M├─────────\n",
       "       ├───┤  │        ░ └╥┘┌─┐      \n",
       "  q_1: ┤ H ├──┼────■───░──╫─┤M├──────\n",
       "       ├───┤┌─┴─┐  │   ░  ║ └╥┘┌─┐   \n",
       "  q_2: ┤ H ├┤ X ├──┼───░──╫──╫─┤M├───\n",
       "       ├───┤└───┘┌─┴─┐ ░  ║  ║ └╥┘┌─┐\n",
       "  q_3: ┤ H ├─────┤ X ├─░──╫──╫──╫─┤M├\n",
       "       └───┘     └───┘ ░  ║  ║  ║ └╥┘\n",
       "vip_0: ═══════════════════╩══╬══╬══╬═\n",
       "                             ║  ║  ║ \n",
       "vip_1: ══════════════════════╩══╬══╬═\n",
       "                                ║  ║ \n",
       "vip_2: ═════════════════════════╩══╬═\n",
       "                                   ║ \n",
       "vip_3: ════════════════════════════╩═\n",
       "                                     "
      ]
     },
     "execution_count": 17,
     "metadata": {},
     "output_type": "execute_result"
    }
   ],
   "source": [
    "# circuit manipulation\n",
    "deprived.h([0,1,2,3])\n",
    "deprived.cx(0,2)\n",
    "deprived.cx(1,3)\n",
    "deprived.barrier()\n",
    "deprived.measure([0,1,2,3], [0,1,2,3])\n",
    "deprived.draw()"
   ]
  },
  {
   "cell_type": "code",
   "execution_count": 18,
   "id": "78da7f8a-bc04-4b43-a9fe-82d4316e3807",
   "metadata": {},
   "outputs": [
    {
     "name": "stdout",
     "output_type": "stream",
     "text": [
      "{'1110': 1}\n"
     ]
    }
   ],
   "source": [
    "pre_simulator = Aer.get_backend('qasm_simulator')\n",
    "pre_result = execute(deprived, backend=pre_simulator, shots=1).result()\n",
    "counts = pre_result.get_counts(deprived)\n",
    "print(counts)"
   ]
  },
  {
   "cell_type": "code",
   "execution_count": 19,
   "id": "5a4bf4de-7d9a-480a-9f9d-6de6fe24c48e",
   "metadata": {},
   "outputs": [
    {
     "data": {
      "text/html": [
       "<pre style=\"word-wrap: normal;white-space: pre;background: #fff0;line-height: 1.1;font-family: &quot;Courier New&quot;,Courier,monospace\">       ┌───┐           ░ ┌─┐          ░ ┌───┐┌─────────┐\n",
       "  q_0: ┤ H ├──■────────░─┤M├──────────░─┤ H ├┤0        ├\n",
       "       ├───┤  │        ░ └╥┘┌─┐       ░ ├───┤│         │\n",
       "  q_1: ┤ H ├──┼────■───░──╫─┤M├───────░─┤ H ├┤1        ├\n",
       "       ├───┤┌─┴─┐  │   ░  ║ └╥┘┌─┐    ░ ├───┤│  oracle │\n",
       "  q_2: ┤ H ├┤ X ├──┼───░──╫──╫─┤M├────░─┤ H ├┤2        ├\n",
       "       ├───┤└───┘┌─┴─┐ ░  ║  ║ └╥┘┌─┐ ░ ├───┤│         │\n",
       "  q_3: ┤ H ├─────┤ X ├─░──╫──╫──╫─┤M├─░─┤ H ├┤3        ├\n",
       "       └───┘     └───┘ ░  ║  ║  ║ └╥┘ ░ └───┘└─────────┘\n",
       "vip_0: ═══════════════════╩══╬══╬══╬════════════════════\n",
       "                             ║  ║  ║                    \n",
       "vip_1: ══════════════════════╩══╬══╬════════════════════\n",
       "                                ║  ║                    \n",
       "vip_2: ═════════════════════════╩══╬════════════════════\n",
       "                                   ║                    \n",
       "vip_3: ════════════════════════════╩════════════════════\n",
       "                                                        </pre>"
      ],
      "text/plain": [
       "       ┌───┐           ░ ┌─┐          ░ ┌───┐┌─────────┐\n",
       "  q_0: ┤ H ├──■────────░─┤M├──────────░─┤ H ├┤0        ├\n",
       "       ├───┤  │        ░ └╥┘┌─┐       ░ ├───┤│         │\n",
       "  q_1: ┤ H ├──┼────■───░──╫─┤M├───────░─┤ H ├┤1        ├\n",
       "       ├───┤┌─┴─┐  │   ░  ║ └╥┘┌─┐    ░ ├───┤│  oracle │\n",
       "  q_2: ┤ H ├┤ X ├──┼───░──╫──╫─┤M├────░─┤ H ├┤2        ├\n",
       "       ├───┤└───┘┌─┴─┐ ░  ║  ║ └╥┘┌─┐ ░ ├───┤│         │\n",
       "  q_3: ┤ H ├─────┤ X ├─░──╫──╫──╫─┤M├─░─┤ H ├┤3        ├\n",
       "       └───┘     └───┘ ░  ║  ║  ║ └╥┘ ░ └───┘└─────────┘\n",
       "vip_0: ═══════════════════╩══╬══╬══╬════════════════════\n",
       "                             ║  ║  ║                    \n",
       "vip_1: ══════════════════════╩══╬══╬════════════════════\n",
       "                                ║  ║                    \n",
       "vip_2: ═════════════════════════╩══╬════════════════════\n",
       "                                   ║                    \n",
       "vip_3: ════════════════════════════╩════════════════════\n",
       "                                                        "
      ]
     },
     "execution_count": 19,
     "metadata": {},
     "output_type": "execute_result"
    }
   ],
   "source": [
    "# oracle:\n",
    "qubits = 4\n",
    "dep = QuantumCircuit(qubits, name='oracle')\n",
    "\n",
    "for i in range(qubits):\n",
    "    dep.h(i)\n",
    "    if creg[i] == 1:\n",
    "        dep.z(i)\n",
    "        break\n",
    "dep.to_gate()\n",
    "deprived.barrier()\n",
    "deprived.h([0,1,2,3])\n",
    "deprived.append(dep, [0,1,2,3])\n",
    "deprived.draw()"
   ]
  },
  {
   "cell_type": "code",
   "execution_count": 20,
   "id": "51b18579-b25e-4156-bdfa-f8aa3b7bc0b5",
   "metadata": {},
   "outputs": [
    {
     "data": {
      "text/html": [
       "<pre style=\"word-wrap: normal;white-space: pre;background: #fff0;line-height: 1.1;font-family: &quot;Courier New&quot;,Courier,monospace\">       ┌───┐           ░ ┌─┐          ░ ┌───┐┌─────────┐┌─────────────┐\n",
       "  q_0: ┤ H ├──■────────░─┤M├──────────░─┤ H ├┤0        ├┤0            ├\n",
       "       ├───┤  │        ░ └╥┘┌─┐       ░ ├───┤│         ││             │\n",
       "  q_1: ┤ H ├──┼────■───░──╫─┤M├───────░─┤ H ├┤1        ├┤1            ├\n",
       "       ├───┤┌─┴─┐  │   ░  ║ └╥┘┌─┐    ░ ├───┤│  oracle ││  reflection │\n",
       "  q_2: ┤ H ├┤ X ├──┼───░──╫──╫─┤M├────░─┤ H ├┤2        ├┤2            ├\n",
       "       ├───┤└───┘┌─┴─┐ ░  ║  ║ └╥┘┌─┐ ░ ├───┤│         ││             │\n",
       "  q_3: ┤ H ├─────┤ X ├─░──╫──╫──╫─┤M├─░─┤ H ├┤3        ├┤3            ├\n",
       "       └───┘     └───┘ ░  ║  ║  ║ └╥┘ ░ └───┘└─────────┘└─────────────┘\n",
       "vip_0: ═══════════════════╩══╬══╬══╬═══════════════════════════════════\n",
       "                             ║  ║  ║                                   \n",
       "vip_1: ══════════════════════╩══╬══╬═══════════════════════════════════\n",
       "                                ║  ║                                   \n",
       "vip_2: ═════════════════════════╩══╬═══════════════════════════════════\n",
       "                                   ║                                   \n",
       "vip_3: ════════════════════════════╩═══════════════════════════════════\n",
       "                                                                       </pre>"
      ],
      "text/plain": [
       "       ┌───┐           ░ ┌─┐          ░ ┌───┐┌─────────┐┌─────────────┐\n",
       "  q_0: ┤ H ├──■────────░─┤M├──────────░─┤ H ├┤0        ├┤0            ├\n",
       "       ├───┤  │        ░ └╥┘┌─┐       ░ ├───┤│         ││             │\n",
       "  q_1: ┤ H ├──┼────■───░──╫─┤M├───────░─┤ H ├┤1        ├┤1            ├\n",
       "       ├───┤┌─┴─┐  │   ░  ║ └╥┘┌─┐    ░ ├───┤│  oracle ││  reflection │\n",
       "  q_2: ┤ H ├┤ X ├──┼───░──╫──╫─┤M├────░─┤ H ├┤2        ├┤2            ├\n",
       "       ├───┤└───┘┌─┴─┐ ░  ║  ║ └╥┘┌─┐ ░ ├───┤│         ││             │\n",
       "  q_3: ┤ H ├─────┤ X ├─░──╫──╫──╫─┤M├─░─┤ H ├┤3        ├┤3            ├\n",
       "       └───┘     └───┘ ░  ║  ║  ║ └╥┘ ░ └───┘└─────────┘└─────────────┘\n",
       "vip_0: ═══════════════════╩══╬══╬══╬═══════════════════════════════════\n",
       "                             ║  ║  ║                                   \n",
       "vip_1: ══════════════════════╩══╬══╬═══════════════════════════════════\n",
       "                                ║  ║                                   \n",
       "vip_2: ═════════════════════════╩══╬═══════════════════════════════════\n",
       "                                   ║                                   \n",
       "vip_3: ════════════════════════════╩═══════════════════════════════════\n",
       "                                                                       "
      ]
     },
     "execution_count": 20,
     "metadata": {},
     "output_type": "execute_result"
    }
   ],
   "source": [
    "# reflection\n",
    "qubits2 = 4\n",
    "tobi = QuantumCircuit(qubits2, name='reflection')\n",
    "\n",
    "for x in range(qubits2):\n",
    "    tobi.h(x)\n",
    "    tobi.z(x)\n",
    "for y in range(3):\n",
    "    tobi.cx(y, y+1)\n",
    "for z in range(qubits2):\n",
    "    tobi.h(z)\n",
    "\n",
    "tobi.to_gate()\n",
    "deprived.append(tobi, [0,1,2,3])\n",
    "deprived.draw()"
   ]
  },
  {
   "cell_type": "code",
   "execution_count": 21,
   "id": "8057ed3f-cb1a-43f6-b504-b86a9366ed03",
   "metadata": {},
   "outputs": [
    {
     "data": {
      "text/html": [
       "<pre style=\"word-wrap: normal;white-space: pre;background: #fff0;line-height: 1.1;font-family: &quot;Courier New&quot;,Courier,monospace\">       ┌───┐           ░ ┌─┐          ░ ┌───┐┌─────────┐┌─────────────┐┌─┐   »\n",
       "  q_0: ┤ H ├──■────────░─┤M├──────────░─┤ H ├┤0        ├┤0            ├┤M├───»\n",
       "       ├───┤  │        ░ └╥┘┌─┐       ░ ├───┤│         ││             │└╥┘┌─┐»\n",
       "  q_1: ┤ H ├──┼────■───░──╫─┤M├───────░─┤ H ├┤1        ├┤1            ├─╫─┤M├»\n",
       "       ├───┤┌─┴─┐  │   ░  ║ └╥┘┌─┐    ░ ├───┤│  oracle ││  reflection │ ║ └╥┘»\n",
       "  q_2: ┤ H ├┤ X ├──┼───░──╫──╫─┤M├────░─┤ H ├┤2        ├┤2            ├─╫──╫─»\n",
       "       ├───┤└───┘┌─┴─┐ ░  ║  ║ └╥┘┌─┐ ░ ├───┤│         ││             │ ║  ║ »\n",
       "  q_3: ┤ H ├─────┤ X ├─░──╫──╫──╫─┤M├─░─┤ H ├┤3        ├┤3            ├─╫──╫─»\n",
       "       └───┘     └───┘ ░  ║  ║  ║ └╥┘ ░ └───┘└─────────┘└─────────────┘ ║  ║ »\n",
       "vip_0: ═══════════════════╩══╬══╬══╬════════════════════════════════════╩══╬═»\n",
       "                             ║  ║  ║                                       ║ »\n",
       "vip_1: ══════════════════════╩══╬══╬═══════════════════════════════════════╩═»\n",
       "                                ║  ║                                         »\n",
       "vip_2: ═════════════════════════╩══╬═════════════════════════════════════════»\n",
       "                                   ║                                         »\n",
       "vip_3: ════════════════════════════╩═════════════════════════════════════════»\n",
       "                                                                             »\n",
       "«              ░ \n",
       "«  q_0: ───────░─\n",
       "«              ░ \n",
       "«  q_1: ───────░─\n",
       "«       ┌─┐    ░ \n",
       "«  q_2: ┤M├────░─\n",
       "«       └╥┘┌─┐ ░ \n",
       "«  q_3: ─╫─┤M├─░─\n",
       "«        ║ └╥┘ ░ \n",
       "«vip_0: ═╬══╬════\n",
       "«        ║  ║    \n",
       "«vip_1: ═╬══╬════\n",
       "«        ║  ║    \n",
       "«vip_2: ═╩══╬════\n",
       "«           ║    \n",
       "«vip_3: ════╩════\n",
       "«                </pre>"
      ],
      "text/plain": [
       "       ┌───┐           ░ ┌─┐          ░ ┌───┐┌─────────┐┌─────────────┐┌─┐   »\n",
       "  q_0: ┤ H ├──■────────░─┤M├──────────░─┤ H ├┤0        ├┤0            ├┤M├───»\n",
       "       ├───┤  │        ░ └╥┘┌─┐       ░ ├───┤│         ││             │└╥┘┌─┐»\n",
       "  q_1: ┤ H ├──┼────■───░──╫─┤M├───────░─┤ H ├┤1        ├┤1            ├─╫─┤M├»\n",
       "       ├───┤┌─┴─┐  │   ░  ║ └╥┘┌─┐    ░ ├───┤│  oracle ││  reflection │ ║ └╥┘»\n",
       "  q_2: ┤ H ├┤ X ├──┼───░──╫──╫─┤M├────░─┤ H ├┤2        ├┤2            ├─╫──╫─»\n",
       "       ├───┤└───┘┌─┴─┐ ░  ║  ║ └╥┘┌─┐ ░ ├───┤│         ││             │ ║  ║ »\n",
       "  q_3: ┤ H ├─────┤ X ├─░──╫──╫──╫─┤M├─░─┤ H ├┤3        ├┤3            ├─╫──╫─»\n",
       "       └───┘     └───┘ ░  ║  ║  ║ └╥┘ ░ └───┘└─────────┘└─────────────┘ ║  ║ »\n",
       "vip_0: ═══════════════════╩══╬══╬══╬════════════════════════════════════╩══╬═»\n",
       "                             ║  ║  ║                                       ║ »\n",
       "vip_1: ══════════════════════╩══╬══╬═══════════════════════════════════════╩═»\n",
       "                                ║  ║                                         »\n",
       "vip_2: ═════════════════════════╩══╬═════════════════════════════════════════»\n",
       "                                   ║                                         »\n",
       "vip_3: ════════════════════════════╩═════════════════════════════════════════»\n",
       "                                                                             »\n",
       "«              ░ \n",
       "«  q_0: ───────░─\n",
       "«              ░ \n",
       "«  q_1: ───────░─\n",
       "«       ┌─┐    ░ \n",
       "«  q_2: ┤M├────░─\n",
       "«       └╥┘┌─┐ ░ \n",
       "«  q_3: ─╫─┤M├─░─\n",
       "«        ║ └╥┘ ░ \n",
       "«vip_0: ═╬══╬════\n",
       "«        ║  ║    \n",
       "«vip_1: ═╬══╬════\n",
       "«        ║  ║    \n",
       "«vip_2: ═╩══╬════\n",
       "«           ║    \n",
       "«vip_3: ════╩════\n",
       "«                "
      ]
     },
     "execution_count": 21,
     "metadata": {},
     "output_type": "execute_result"
    }
   ],
   "source": [
    "# measure\n",
    "deprived.measure([0,1,2,3], [0,1,2,3])\n",
    "deprived.barrier()\n",
    "deprived.draw()"
   ]
  },
  {
   "cell_type": "code",
   "execution_count": 22,
   "id": "919e08cd-85b7-4941-804c-fc420c085978",
   "metadata": {},
   "outputs": [
    {
     "name": "stdout",
     "output_type": "stream",
     "text": [
      "Statevector([0.+0.0000000e+00j, 0.+0.0000000e+00j, 0.+0.0000000e+00j,\n",
      "             0.+0.0000000e+00j, 0.+0.0000000e+00j, 0.+0.0000000e+00j,\n",
      "             0.+0.0000000e+00j, 0.+0.0000000e+00j, 0.+0.0000000e+00j,\n",
      "             1.+1.2246468e-16j, 0.+0.0000000e+00j, 0.+0.0000000e+00j,\n",
      "             0.+0.0000000e+00j, 0.+0.0000000e+00j, 0.+0.0000000e+00j,\n",
      "             0.+0.0000000e+00j],\n",
      "            dims=(2, 2, 2, 2))\n"
     ]
    }
   ],
   "source": [
    "# sv\n",
    "statevector = Aer.get_backend('statevector_simulator')\n",
    "result = execute(deprived, backend=statevector).result()\n",
    "sv = result.get_statevector(deprived)\n",
    "print(sv)"
   ]
  },
  {
   "cell_type": "code",
   "execution_count": 23,
   "id": "898401c2-68f6-4913-8e14-70aefbc76aab",
   "metadata": {},
   "outputs": [
    {
     "name": "stdout",
     "output_type": "stream",
     "text": [
      "{'1011': 1}\n"
     ]
    }
   ],
   "source": [
    "# qasm\n",
    "simulator = Aer.get_backend('qasm_simulator')\n",
    "result2 = execute(deprived, backend=simulator, shots=1).result()\n",
    "counts = result2.get_counts(deprived)\n",
    "print(counts)"
   ]
  },
  {
   "cell_type": "code",
   "execution_count": null,
   "id": "4532760e-b317-461e-ae90-263e4baee966",
   "metadata": {},
   "outputs": [],
   "source": []
  }
 ],
 "metadata": {
  "kernelspec": {
   "display_name": "Python 3 (ipykernel)",
   "language": "python",
   "name": "python3"
  },
  "language_info": {
   "codemirror_mode": {
    "name": "ipython",
    "version": 3
   },
   "file_extension": ".py",
   "mimetype": "text/x-python",
   "name": "python",
   "nbconvert_exporter": "python",
   "pygments_lexer": "ipython3",
   "version": "3.10.6"
  }
 },
 "nbformat": 4,
 "nbformat_minor": 5
}
