{
 "cells": [
  {
   "cell_type": "code",
   "execution_count": 1,
   "id": "52c6838b-e8d9-49ee-ad51-1f9e3d69bcac",
   "metadata": {},
   "outputs": [],
   "source": [
    "# find the winner number within 3 qubits. try `\\_|'-'|_/`\n",
    "\n",
    "# winner: 100"
   ]
  },
  {
   "cell_type": "code",
   "execution_count": 2,
   "id": "673011e5-fce9-4f4c-84e1-1bb2d8b81922",
   "metadata": {},
   "outputs": [],
   "source": [
    "from qiskit import *\n",
    "\n",
    "bwu = QuantumCircuit(3, name='oracle')\n",
    "lund = QuantumCircuit(3, name='reflection')\n",
    "thoughts = QuantumCircuit(3, 3)"
   ]
  },
  {
   "cell_type": "code",
   "execution_count": 3,
   "id": "b9774f09-3a67-4d93-bb91-d532992b51fd",
   "metadata": {},
   "outputs": [
    {
     "data": {
      "text/plain": [
       "Instruction(name='oracle', num_qubits=3, num_clbits=0, params=[])"
      ]
     },
     "execution_count": 3,
     "metadata": {},
     "output_type": "execute_result"
    }
   ],
   "source": [
    "bwu.z(0)\n",
    "bwu.to_gate()"
   ]
  },
  {
   "cell_type": "code",
   "execution_count": 4,
   "id": "862a72ee-96fc-4e27-91a4-8c9610c67ee2",
   "metadata": {},
   "outputs": [
    {
     "data": {
      "text/html": [
       "<pre style=\"word-wrap: normal;white-space: pre;background: #fff0;line-height: 1.1;font-family: &quot;Courier New&quot;,Courier,monospace\">     ┌───┐┌───┐   ┌───┐┌───┐\n",
       "q_0: ┤ H ├┤ Z ├─■─┤ I ├┤ H ├\n",
       "     ├───┤├───┤ │ └───┘├───┤\n",
       "q_1: ┤ H ├┤ Z ├─■───■──┤ H ├\n",
       "     ├───┤├───┤     │  ├───┤\n",
       "q_2: ┤ H ├┤ Z ├─────■──┤ H ├\n",
       "     └───┘└───┘        └───┘</pre>"
      ],
      "text/plain": [
       "     ┌───┐┌───┐   ┌───┐┌───┐\n",
       "q_0: ┤ H ├┤ Z ├─■─┤ I ├┤ H ├\n",
       "     ├───┤├───┤ │ └───┘├───┤\n",
       "q_1: ┤ H ├┤ Z ├─■───■──┤ H ├\n",
       "     ├───┤├───┤     │  ├───┤\n",
       "q_2: ┤ H ├┤ Z ├─────■──┤ H ├\n",
       "     └───┘└───┘        └───┘"
      ]
     },
     "execution_count": 4,
     "metadata": {},
     "output_type": "execute_result"
    }
   ],
   "source": [
    "lund.h([0,1,2])\n",
    "lund.z([0,1,2])\n",
    "lund.cz(0,1)\n",
    "lund.cz(1,2)\n",
    "lund.i(0)\n",
    "lund.h([0,1,2])\n",
    "lund.to_gate()\n",
    "lund.draw()"
   ]
  },
  {
   "cell_type": "code",
   "execution_count": 5,
   "id": "c5e7a9a8-3f40-4c5e-a466-9a3dd0e2f15b",
   "metadata": {},
   "outputs": [
    {
     "data": {
      "text/html": [
       "<pre style=\"word-wrap: normal;white-space: pre;background: #fff0;line-height: 1.1;font-family: &quot;Courier New&quot;,Courier,monospace\">     ┌───┐┌─────────┐┌─────────────┐┌─┐      \n",
       "q_0: ┤ H ├┤0        ├┤0            ├┤M├──────\n",
       "     ├───┤│         ││             │└╥┘┌─┐   \n",
       "q_1: ┤ H ├┤1 oracle ├┤1 reflection ├─╫─┤M├───\n",
       "     ├───┤│         ││             │ ║ └╥┘┌─┐\n",
       "q_2: ┤ H ├┤2        ├┤2            ├─╫──╫─┤M├\n",
       "     └───┘└─────────┘└─────────────┘ ║  ║ └╥┘\n",
       "c_0: ════════════════════════════════╩══╬══╬═\n",
       "                                        ║  ║ \n",
       "c_1: ═══════════════════════════════════╩══╬═\n",
       "                                           ║ \n",
       "c_2: ══════════════════════════════════════╩═\n",
       "                                             </pre>"
      ],
      "text/plain": [
       "     ┌───┐┌─────────┐┌─────────────┐┌─┐      \n",
       "q_0: ┤ H ├┤0        ├┤0            ├┤M├──────\n",
       "     ├───┤│         ││             │└╥┘┌─┐   \n",
       "q_1: ┤ H ├┤1 oracle ├┤1 reflection ├─╫─┤M├───\n",
       "     ├───┤│         ││             │ ║ └╥┘┌─┐\n",
       "q_2: ┤ H ├┤2        ├┤2            ├─╫──╫─┤M├\n",
       "     └───┘└─────────┘└─────────────┘ ║  ║ └╥┘\n",
       "c_0: ════════════════════════════════╩══╬══╬═\n",
       "                                        ║  ║ \n",
       "c_1: ═══════════════════════════════════╩══╬═\n",
       "                                           ║ \n",
       "c_2: ══════════════════════════════════════╩═\n",
       "                                             "
      ]
     },
     "execution_count": 5,
     "metadata": {},
     "output_type": "execute_result"
    }
   ],
   "source": [
    "thoughts.h([0,1,2])\n",
    "thoughts.append(bwu,[0,1,2])\n",
    "thoughts.append(lund,[0,1,2])\n",
    "thoughts.measure([0,1,2], [0,1,2])\n",
    "thoughts.draw()"
   ]
  },
  {
   "cell_type": "code",
   "execution_count": 15,
   "id": "2787a592-54a1-477d-a481-d09df4fe43d1",
   "metadata": {},
   "outputs": [
    {
     "name": "stdout",
     "output_type": "stream",
     "text": [
      "{'100': 1}\n"
     ]
    }
   ],
   "source": [
    "nameless = Aer.get_backend('qasm_simulator')\n",
    "result2 = execute(thoughts, backend=nameless, shots=1).result()\n",
    "polaroid = result2.get_counts(thoughts)\n",
    "print(polaroid)"
   ]
  },
  {
   "cell_type": "code",
   "execution_count": 13,
   "id": "03bd975c-92df-440a-975a-40ef74d0baf7",
   "metadata": {},
   "outputs": [
    {
     "name": "stdout",
     "output_type": "stream",
     "text": [
      "Statevector([-1.-2.4492936e-16j,  0.+0.0000000e+00j,  0.+0.0000000e+00j,\n",
      "              0.+0.0000000e+00j,  0.-0.0000000e+00j,  0.+0.0000000e+00j,\n",
      "              0.+0.0000000e+00j,  0.+0.0000000e+00j],\n",
      "            dims=(2, 2, 2))\n"
     ]
    }
   ],
   "source": [
    "idc = Aer.get_backend('statevector_simulator')\n",
    "result1 = execute(thoughts, backend=idc).result()\n",
    "idk = result1.get_statevector(thoughts)\n",
    "print(idk)"
   ]
  },
  {
   "cell_type": "code",
   "execution_count": null,
   "id": "2bc21e4c-94c1-4321-8d36-6367ed7d0740",
   "metadata": {},
   "outputs": [],
   "source": []
  }
 ],
 "metadata": {
  "kernelspec": {
   "display_name": "Python 3 (ipykernel)",
   "language": "python",
   "name": "python3"
  },
  "language_info": {
   "codemirror_mode": {
    "name": "ipython",
    "version": 3
   },
   "file_extension": ".py",
   "mimetype": "text/x-python",
   "name": "python",
   "nbconvert_exporter": "python",
   "pygments_lexer": "ipython3",
   "version": "3.10.6"
  }
 },
 "nbformat": 4,
 "nbformat_minor": 5
}
