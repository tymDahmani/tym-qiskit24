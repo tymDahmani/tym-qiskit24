{
 "cells": [
  {
   "cell_type": "code",
   "execution_count": 69,
   "id": "e49e8975-043f-451d-8ede-64b9b840ea58",
   "metadata": {},
   "outputs": [],
   "source": [
    "from qiskit import *"
   ]
  },
  {
   "cell_type": "code",
   "execution_count": 70,
   "id": "eaaddb65-d367-48db-a873-fd6a53860d88",
   "metadata": {},
   "outputs": [],
   "source": [
    "qr = QuantumRegister(2)\n",
    "cr = ClassicalRegister(2)\n",
    "qc = QuantumCircuit(qr, cr)"
   ]
  },
  {
   "cell_type": "code",
   "execution_count": 71,
   "id": "d8dfef7b-03da-41b2-ba52-2aaa9e2450ad",
   "metadata": {},
   "outputs": [
    {
     "data": {
      "text/plain": [
       "<qiskit.circuit.instructionset.InstructionSet at 0x263faa49630>"
      ]
     },
     "execution_count": 71,
     "metadata": {},
     "output_type": "execute_result"
    }
   ],
   "source": [
    "qc.h(qr[0])"
   ]
  },
  {
   "cell_type": "code",
   "execution_count": 72,
   "id": "61b2bdce-4001-4dac-a721-495f90493bd5",
   "metadata": {},
   "outputs": [
    {
     "data": {
      "text/html": [
       "<pre style=\"word-wrap: normal;white-space: pre;background: #fff0;line-height: 1.1;font-family: &quot;Courier New&quot;,Courier,monospace\">       ┌───┐     ┌─┐   \n",
       "q28_0: ┤ H ├──■──┤M├───\n",
       "       └───┘┌─┴─┐└╥┘┌─┐\n",
       "q28_1: ─────┤ X ├─╫─┤M├\n",
       "            └───┘ ║ └╥┘\n",
       " c8_0: ═══════════╩══╬═\n",
       "                     ║ \n",
       " c8_1: ══════════════╩═\n",
       "                       </pre>"
      ],
      "text/plain": [
       "       ┌───┐     ┌─┐   \n",
       "q28_0: ┤ H ├──■──┤M├───\n",
       "       └───┘┌─┴─┐└╥┘┌─┐\n",
       "q28_1: ─────┤ X ├─╫─┤M├\n",
       "            └───┘ ║ └╥┘\n",
       " c8_0: ═══════════╩══╬═\n",
       "                     ║ \n",
       " c8_1: ══════════════╩═\n",
       "                       "
      ]
     },
     "execution_count": 72,
     "metadata": {},
     "output_type": "execute_result"
    }
   ],
   "source": [
    "qc.cx(qr[0], qr[1])\n",
    "qc.measure(qr, cr)\n",
    "qc.draw()"
   ]
  },
  {
   "cell_type": "code",
   "execution_count": 73,
   "id": "5a458022-3193-469e-bead-140a4847e9f6",
   "metadata": {},
   "outputs": [],
   "source": [
    "simulator = Aer.get_backend('qasm_simulator')"
   ]
  },
  {
   "cell_type": "code",
   "execution_count": 74,
   "id": "74dac152-feca-46f6-ba13-17653f808cc9",
   "metadata": {},
   "outputs": [],
   "source": [
    "result = execute(qc, backend = simulator).result()"
   ]
  },
  {
   "cell_type": "code",
   "execution_count": 75,
   "id": "d698f34b-67dc-4b70-a9ac-c9752ba75312",
   "metadata": {},
   "outputs": [
    {
     "data": {
      "image/png": "[encoded data removed]",
      "text/plain": [
       "<Figure size 700x500 with 1 Axes>"
      ]
     },
     "execution_count": 75,
     "metadata": {},
     "output_type": "execute_result"
    }
   ],
   "source": [
    "from qiskit.tools.visualization import plot_histogram\n",
    "plot_histogram(result.get_counts(qc))"
   ]
  },
  {
   "cell_type": "code",
   "execution_count": null,
   "id": "ca37fe3c-9cd2-4c17-80e2-0e481a87e055",
   "metadata": {},
   "outputs": [],
   "source": []
  }
 ],
 "metadata": {
  "kernelspec": {
   "display_name": "Python 3 (ipykernel)",
   "language": "python",
   "name": "python3"
  },
  "language_info": {
   "codemirror_mode": {
    "name": "ipython",
    "version": 3
   },
   "file_extension": ".py",
   "mimetype": "text/x-python",
   "name": "python",
   "nbconvert_exporter": "python",
   "pygments_lexer": "ipython3",
   "version": "3.10.6"
  }
 },
 "nbformat": 4,
 "nbformat_minor": 5
}
