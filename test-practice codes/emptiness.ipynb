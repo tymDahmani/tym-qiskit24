{
 "cells": [
  {
   "cell_type": "code",
   "execution_count": 50,
   "id": "eb0f7984-8f53-44b3-9636-b98faa1cd9d4",
   "metadata": {},
   "outputs": [],
   "source": [
    "from qiskit import *\n",
    "from qiskit.tools.visualization import plot_histogram"
   ]
  },
  {
   "cell_type": "code",
   "execution_count": 51,
   "id": "ce105fe6-e5c1-405f-9dd5-244dbf9c7ab2",
   "metadata": {},
   "outputs": [],
   "source": [
    "tym = QuantumCircuit(3,  3)"
   ]
  },
  {
   "cell_type": "code",
   "execution_count": 52,
   "id": "7402b3d0-b29b-4f72-9841-d1fa227b8d92",
   "metadata": {},
   "outputs": [
    {
     "data": {
      "text/html": [
       "<pre style=\"word-wrap: normal;white-space: pre;background: #fff0;line-height: 1.1;font-family: &quot;Courier New&quot;,Courier,monospace\">     ┌───┐          ┌─┐      \n",
       "q_0: ┤ H ├──■───────┤M├──────\n",
       "     └───┘┌─┴─┐     └╥┘┌─┐   \n",
       "q_1: ─────┤ X ├──■───╫─┤M├───\n",
       "          └───┘┌─┴─┐ ║ └╥┘┌─┐\n",
       "q_2: ──────────┤ X ├─╫──╫─┤M├\n",
       "               └───┘ ║  ║ └╥┘\n",
       "c_0: ════════════════╩══╬══╬═\n",
       "                        ║  ║ \n",
       "c_1: ═══════════════════╩══╬═\n",
       "                           ║ \n",
       "c_2: ══════════════════════╩═\n",
       "                             </pre>"
      ],
      "text/plain": [
       "     ┌───┐          ┌─┐      \n",
       "q_0: ┤ H ├──■───────┤M├──────\n",
       "     └───┘┌─┴─┐     └╥┘┌─┐   \n",
       "q_1: ─────┤ X ├──■───╫─┤M├───\n",
       "          └───┘┌─┴─┐ ║ └╥┘┌─┐\n",
       "q_2: ──────────┤ X ├─╫──╫─┤M├\n",
       "               └───┘ ║  ║ └╥┘\n",
       "c_0: ════════════════╩══╬══╬═\n",
       "                        ║  ║ \n",
       "c_1: ═══════════════════╩══╬═\n",
       "                           ║ \n",
       "c_2: ══════════════════════╩═\n",
       "                             "
      ]
     },
     "execution_count": 52,
     "metadata": {},
     "output_type": "execute_result"
    }
   ],
   "source": [
    "# apply a GHZ state\n",
    "tym.h(0)\n",
    "tym.cx(0,1)\n",
    "tym.cx(1,2)\n",
    "tym.measure([0,1,2],[0,1,2])\n",
    "tym.draw()"
   ]
  },
  {
   "cell_type": "code",
   "execution_count": 53,
   "id": "8b35634a-cfa3-4728-a1cc-230c4864092a",
   "metadata": {},
   "outputs": [
    {
     "name": "stdout",
     "output_type": "stream",
     "text": [
      "{'111': 513, '000': 511}\n"
     ]
    }
   ],
   "source": [
    "simulator = Aer.get_backend('qasm_simulator')\n",
    "monako = execute(tym, backend = simulator).result()\n",
    "nikolai = monako.get_counts(tym)\n",
    "print(nikolai)"
   ]
  },
  {
   "cell_type": "code",
   "execution_count": null,
   "id": "118bf68e-9565-44f1-a783-ebd1d81c4245",
   "metadata": {},
   "outputs": [],
   "source": []
  }
 ],
 "metadata": {
  "kernelspec": {
   "display_name": "Python 3 (ipykernel)",
   "language": "python",
   "name": "python3"
  },
  "language_info": {
   "codemirror_mode": {
    "name": "ipython",
    "version": 3
   },
   "file_extension": ".py",
   "mimetype": "text/x-python",
   "name": "python",
   "nbconvert_exporter": "python",
   "pygments_lexer": "ipython3",
   "version": "3.10.6"
  }
 },
 "nbformat": 4,
 "nbformat_minor": 5
}
