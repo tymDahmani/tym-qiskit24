{
 "cells": [
  {
   "cell_type": "code",
   "execution_count": 169,
   "id": "8b7fb1b7-48f7-46c4-834b-50fc4c2447c5",
   "metadata": {},
   "outputs": [],
   "source": [
    "from qiskit import *\n",
    "from qiskit.visualization import *\n",
    "two_moons = QuantumCircuit(2, 2)"
   ]
  },
  {
   "cell_type": "code",
   "execution_count": 170,
   "id": "36a0d25a-3357-46db-ae5b-8e47cb2f39bf",
   "metadata": {},
   "outputs": [
    {
     "data": {
      "text/html": [
       "<pre style=\"word-wrap: normal;white-space: pre;background: #fff0;line-height: 1.1;font-family: &quot;Courier New&quot;,Courier,monospace\">     ┌───┐┌─┐   ┌──────────┐\n",
       "q_0: ┤ X ├┤M├───┤0         ├\n",
       "     ├───┤└╥┘┌─┐│          │\n",
       "q_1: ┤ X ├─╫─┤M├┤1         ├\n",
       "     └───┘ ║ └╥┘│  If_else │\n",
       "c_0: ══════╩══╬═╡0         ╞\n",
       "              ║ │          │\n",
       "c_1: ═════════╩═╡1         ╞\n",
       "                └──────────┘</pre>"
      ],
      "text/plain": [
       "     ┌───┐┌─┐   ┌──────────┐\n",
       "q_0: ┤ X ├┤M├───┤0         ├\n",
       "     ├───┤└╥┘┌─┐│          │\n",
       "q_1: ┤ X ├─╫─┤M├┤1         ├\n",
       "     └───┘ ║ └╥┘│  If_else │\n",
       "c_0: ══════╩══╬═╡0         ╞\n",
       "              ║ │          │\n",
       "c_1: ═════════╩═╡1         ╞\n",
       "                └──────────┘"
      ]
     },
     "execution_count": 170,
     "metadata": {},
     "output_type": "execute_result"
    }
   ],
   "source": [
    "two_moons.x([0,1])\n",
    "two_moons.measure([0,1], [0,1])\n",
    "# theif_test magic :<\n",
    "with two_moons.if_test((two_moons.cregs[0], 1)) as else_:\n",
    "    two_moons.x(1)\n",
    "with else_:\n",
    "    two_moons.x(0)\n",
    "\n",
    "two_moons.draw()"
   ]
  },
  {
   "cell_type": "code",
   "execution_count": 171,
   "id": "4e4e35fa-d646-4a08-be8b-88173fd40d5d",
   "metadata": {},
   "outputs": [
    {
     "data": {
      "text/html": [
       "<pre style=\"word-wrap: normal;white-space: pre;background: #fff0;line-height: 1.1;font-family: &quot;Courier New&quot;,Courier,monospace\">     ┌───┐┌─┐        ┌──────────┐           ░            \n",
       "q_0: ┤ X ├┤M├────────┤0         ├───────────░────────────\n",
       "     ├───┤└╥┘┌─┐     │          │     ┌───┐ ░            \n",
       "q_1: ┤ X ├─╫─┤M├─────┤1         ├──■──┤ H ├─░───────■────\n",
       "     ├───┤ ║ └╥┘     │          │┌─┴─┐└───┘ ░       │    \n",
       "q_2: ┤ H ├─╫──╫───■──┤          ├┤ X ├──────░───■───┼────\n",
       "     └───┘ ║  ║ ┌─┴─┐│  If_else │└───┘      ░ ┌─┴─┐ │ ┌─┐\n",
       "q_3: ──────╫──╫─┤ X ├┤          ├───────────░─┤ X ├─■─┤M├\n",
       "           ║  ║ └───┘│          │           ░ └───┘   └╥┘\n",
       "c_0: ══════╩══╬══════╡0         ╞══════════════════════╬═\n",
       "              ║      │          │                      ║ \n",
       "c_1: ═════════╩══════╡1         ╞══════════════════════╬═\n",
       "                     └──────────┘                      ║ \n",
       "vip: ══════════════════════════════════════════════════╩═\n",
       "                                                         </pre>"
      ],
      "text/plain": [
       "     ┌───┐┌─┐        ┌──────────┐           ░            \n",
       "q_0: ┤ X ├┤M├────────┤0         ├───────────░────────────\n",
       "     ├───┤└╥┘┌─┐     │          │     ┌───┐ ░            \n",
       "q_1: ┤ X ├─╫─┤M├─────┤1         ├──■──┤ H ├─░───────■────\n",
       "     ├───┤ ║ └╥┘     │          │┌─┴─┐└───┘ ░       │    \n",
       "q_2: ┤ H ├─╫──╫───■──┤          ├┤ X ├──────░───■───┼────\n",
       "     └───┘ ║  ║ ┌─┴─┐│  If_else │└───┘      ░ ┌─┴─┐ │ ┌─┐\n",
       "q_3: ──────╫──╫─┤ X ├┤          ├───────────░─┤ X ├─■─┤M├\n",
       "           ║  ║ └───┘│          │           ░ └───┘   └╥┘\n",
       "c_0: ══════╩══╬══════╡0         ╞══════════════════════╬═\n",
       "              ║      │          │                      ║ \n",
       "c_1: ═════════╩══════╡1         ╞══════════════════════╬═\n",
       "                     └──────────┘                      ║ \n",
       "vip: ══════════════════════════════════════════════════╩═\n",
       "                                                         "
      ]
     },
     "execution_count": 171,
     "metadata": {},
     "output_type": "execute_result"
    }
   ],
   "source": [
    "# teleportation protocol to transfer the 1 state.\n",
    "\n",
    "serene = QuantumCircuit(2, name='teleportation')\n",
    "two_sere = QuantumCircuit(4)\n",
    "two_sere.compose(two_moons, [0,1], inplace=True)\n",
    "two_sere.compose(serene, [2,3], inplace=True)\n",
    "\n",
    "two_sere.h(2)\n",
    "two_sere.cx(2,3)\n",
    "two_sere.cx(1,2)\n",
    "two_sere.h(1)\n",
    "two_sere.barrier()\n",
    "two_sere.cx(2,3)\n",
    "two_sere.cz(1,3)\n",
    "\n",
    "# add a classical bit to the [3] qubit\n",
    "creg = ClassicalRegister(1, name='vip')\n",
    "two_sere.add_register(creg)\n",
    "\n",
    "two_sere.measure(3, creg[0])\n",
    "two_sere.draw()"
   ]
  },
  {
   "cell_type": "code",
   "execution_count": 172,
   "id": "a2e0c4b2-cc8b-49a0-a79a-3e43a406f8b1",
   "metadata": {},
   "outputs": [
    {
     "data": {
      "image/png": "[encoded data removed]",
      "text/plain": [
       "<Figure size 700x500 with 1 Axes>"
      ]
     },
     "execution_count": 172,
     "metadata": {},
     "output_type": "execute_result"
    }
   ],
   "source": [
    "# visualize result (plot histogram)\n",
    "qasm = Aer.get_backend('qasm_simulator')\n",
    "\n",
    "basis_gates = ['u3', 'cx', 'reset', 'measure', 'if_else', 'barrier']\n",
    "\n",
    "execution_config = {\n",
    "    'basis_gates': basis_gates\n",
    "}\n",
    "\n",
    "eyesight = execute(two_sere, backend=qasm, basis_gates=basis_gates, shots=10).result()\n",
    "\n",
    "counts = eyesight.get_counts()\n",
    "plot_histogram(counts)"
   ]
  },
  {
   "cell_type": "code",
   "execution_count": 173,
   "id": "e50cf605-c60d-4922-b9a9-96b2d5e8ed71",
   "metadata": {},
   "outputs": [
    {
     "name": "stdout",
     "output_type": "stream",
     "text": [
      "{'1 11': 10}\n"
     ]
    }
   ],
   "source": [
    "# print out the result\n",
    "print(counts)"
   ]
  },
  {
   "cell_type": "code",
   "execution_count": 174,
   "id": "f0d5e0e4-48a4-438f-9890-1e4b1fd4b944",
   "metadata": {},
   "outputs": [
    {
     "name": "stdout",
     "output_type": "stream",
     "text": [
      "[(0.5+2.1431318985078685e-16j), (-3.0616169978683836e-17-1.3122898098291257e-32j), (0.5+2.1431318985078685e-16j), (-3.0616169978683836e-17-1.3122898098291257e-32j)]\n"
     ]
    }
   ],
   "source": [
    "# statevector result\n",
    "sv = Aer.get_backend('statevector_simulator')\n",
    "\n",
    "# basically; those are gates which are automatically applied on the if_test method and we need to import them so the simulator will count them on\n",
    "basis_gates = ['u3', 'cx', 'reset', 'measure', 'if_else', 'barrier']\n",
    "\n",
    "execution_config = {\n",
    "    'basis_gates': basis_gates\n",
    "}\n",
    "\n",
    "corridors = execute(two_sere, backend=sv, basis_gates=basis_gates).result()\n",
    "bed = corridors.get_statevector(two_sere)\n",
    "bed_v2 = [bed[12], bed[13], bed[14], bed[15]]\n",
    "print(bed_v2)\n",
    "\n"
   ]
  },
  {
   "cell_type": "code",
   "execution_count": null,
   "id": "f08cd9d7-ba4f-4d26-be37-07a21519811e",
   "metadata": {},
   "outputs": [],
   "source": []
  }
 ],
 "metadata": {
  "kernelspec": {
   "display_name": "Python 3 (ipykernel)",
   "language": "python",
   "name": "python3"
  },
  "language_info": {
   "codemirror_mode": {
    "name": "ipython",
    "version": 3
   },
   "file_extension": ".py",
   "mimetype": "text/x-python",
   "name": "python",
   "nbconvert_exporter": "python",
   "pygments_lexer": "ipython3",
   "version": "3.10.6"
  }
 },
 "nbformat": 4,
 "nbformat_minor": 5
}
