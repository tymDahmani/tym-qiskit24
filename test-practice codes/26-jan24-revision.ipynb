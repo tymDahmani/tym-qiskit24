{
 "cells": [
  {
   "cell_type": "code",
   "execution_count": 23,
   "id": "bd65a142-8314-4913-bed3-837365899c55",
   "metadata": {},
   "outputs": [
    {
     "data": {
      "text/html": [
       "<pre style=\"word-wrap: normal;white-space: pre;background: #fff0;line-height: 1.1;font-family: &quot;Courier New&quot;,Courier,monospace\">          \n",
       "q_0: ─────\n",
       "     ┌───┐\n",
       "q_1: ┤ X ├\n",
       "     └───┘\n",
       "c_0: ═════\n",
       "          \n",
       "c_1: ═════\n",
       "          </pre>"
      ],
      "text/plain": [
       "          \n",
       "q_0: ─────\n",
       "     ┌───┐\n",
       "q_1: ┤ X ├\n",
       "     └───┘\n",
       "c_0: ═════\n",
       "          \n",
       "c_1: ═════\n",
       "          "
      ]
     },
     "execution_count": 23,
     "metadata": {},
     "output_type": "execute_result"
    }
   ],
   "source": [
    "from qiskit import *\n",
    "wao = QuantumCircuit(2, 2)\n",
    "wao.x(1)\n",
    "wao.draw()"
   ]
  },
  {
   "cell_type": "code",
   "execution_count": 24,
   "id": "f7ed097f-ed85-4bd0-9f4a-01bf7e9ffeb6",
   "metadata": {},
   "outputs": [
    {
     "data": {
      "text/html": [
       "<pre style=\"word-wrap: normal;white-space: pre;background: #fff0;line-height: 1.1;font-family: &quot;Courier New&quot;,Courier,monospace\">     ┌───┐          \n",
       "q_0: ┤ H ├───────■──\n",
       "     ├───┤┌───┐┌─┴─┐\n",
       "q_1: ┤ X ├┤ X ├┤ X ├\n",
       "     └───┘└───┘└───┘\n",
       "c_0: ═══════════════\n",
       "                    \n",
       "c_1: ═══════════════\n",
       "                    </pre>"
      ],
      "text/plain": [
       "     ┌───┐          \n",
       "q_0: ┤ H ├───────■──\n",
       "     ├───┤┌───┐┌─┴─┐\n",
       "q_1: ┤ X ├┤ X ├┤ X ├\n",
       "     └───┘└───┘└───┘\n",
       "c_0: ═══════════════\n",
       "                    \n",
       "c_1: ═══════════════\n",
       "                    "
      ]
     },
     "execution_count": 24,
     "metadata": {},
     "output_type": "execute_result"
    }
   ],
   "source": [
    "wao.x(1)\n",
    "wao.h(0)\n",
    "wao.cx(0,1)\n",
    "wao.draw()"
   ]
  },
  {
   "cell_type": "code",
   "execution_count": 25,
   "id": "af55192b-1c0f-4a4f-bb53-41aa37debad3",
   "metadata": {},
   "outputs": [],
   "source": [
    "wao.measure_all()"
   ]
  },
  {
   "cell_type": "code",
   "execution_count": 26,
   "id": "c90d00a6-eded-49bc-9aeb-731f5acfb609",
   "metadata": {},
   "outputs": [
    {
     "data": {
      "text/html": [
       "<pre style=\"word-wrap: normal;white-space: pre;background: #fff0;line-height: 1.1;font-family: &quot;Courier New&quot;,Courier,monospace\">        ┌───┐           ░ ┌─┐   \n",
       "   q_0: ┤ H ├───────■───░─┤M├───\n",
       "        ├───┤┌───┐┌─┴─┐ ░ └╥┘┌─┐\n",
       "   q_1: ┤ X ├┤ X ├┤ X ├─░──╫─┤M├\n",
       "        └───┘└───┘└───┘ ░  ║ └╥┘\n",
       "   c_0: ═══════════════════╬══╬═\n",
       "                           ║  ║ \n",
       "   c_1: ═══════════════════╬══╬═\n",
       "                           ║  ║ \n",
       "meas_0: ═══════════════════╩══╬═\n",
       "                              ║ \n",
       "meas_1: ══════════════════════╩═\n",
       "                                </pre>"
      ],
      "text/plain": [
       "        ┌───┐           ░ ┌─┐   \n",
       "   q_0: ┤ H ├───────■───░─┤M├───\n",
       "        ├───┤┌───┐┌─┴─┐ ░ └╥┘┌─┐\n",
       "   q_1: ┤ X ├┤ X ├┤ X ├─░──╫─┤M├\n",
       "        └───┘└───┘└───┘ ░  ║ └╥┘\n",
       "   c_0: ═══════════════════╬══╬═\n",
       "                           ║  ║ \n",
       "   c_1: ═══════════════════╬══╬═\n",
       "                           ║  ║ \n",
       "meas_0: ═══════════════════╩══╬═\n",
       "                              ║ \n",
       "meas_1: ══════════════════════╩═\n",
       "                                "
      ]
     },
     "execution_count": 26,
     "metadata": {},
     "output_type": "execute_result"
    }
   ],
   "source": [
    "wao.draw()"
   ]
  },
  {
   "cell_type": "code",
   "execution_count": 27,
   "id": "47a43e4a-9f4d-4768-91aa-468dec502a2b",
   "metadata": {},
   "outputs": [
    {
     "name": "stdout",
     "output_type": "stream",
     "text": [
      "{'11 00': 518, '00 00': 506}\n"
     ]
    }
   ],
   "source": [
    "sim = Aer.get_backend('qasm_simulator')\n",
    "result = execute(wao, backend=sim).result()\n",
    "counts = result.get_counts(wao)\n",
    "print(counts)"
   ]
  },
  {
   "cell_type": "code",
   "execution_count": null,
   "id": "2ae7c2f3-3d12-4796-addf-4a1485cd7837",
   "metadata": {},
   "outputs": [],
   "source": []
  }
 ],
 "metadata": {
  "kernelspec": {
   "display_name": "Python 3 (ipykernel)",
   "language": "python",
   "name": "python3"
  },
  "language_info": {
   "codemirror_mode": {
    "name": "ipython",
    "version": 3
   },
   "file_extension": ".py",
   "mimetype": "text/x-python",
   "name": "python",
   "nbconvert_exporter": "python",
   "pygments_lexer": "ipython3",
   "version": "3.10.6"
  }
 },
 "nbformat": 4,
 "nbformat_minor": 5
}
